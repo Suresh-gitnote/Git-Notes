{
 "cells": [
  {
   "cell_type": "code",
   "execution_count": 1,
   "id": "a8dd1a2f-b321-47a5-951f-7a29c55c57bb",
   "metadata": {},
   "outputs": [],
   "source": [
    "# Set                   3-Sep-2025\n",
    "K={1,2,3,4,5,6,}\n",
    "# instead of append we use add in set container to a add an value\n",
    "\n",
    "'''  List to add 2 list we use extend\n",
    "L=[1,2,3,4]\n",
    "L1=[2,3,4,5,]\n",
    "when used extend both the values in L and L1 will be combined'''\n",
    "# in set we use discard to remove the value\n",
    "\n",
    "# ------------------------------------------------\n",
    "\n",
    "\n"
   ]
  },
  {
   "cell_type": "code",
   "execution_count": 8,
   "id": "a007cb50-5918-40e8-acf0-90abab5d7e27",
   "metadata": {},
   "outputs": [
    {
     "name": "stdout",
     "output_type": "stream",
     "text": [
      "{1, 2, 3, 4, 5, 6, 7, 'hi'}\n",
      "{1, 2, 3, 4, 5, 6, 7, 'hi'}\n"
     ]
    }
   ],
   "source": [
    "a = {2,3,4,\"hi\"}\n",
    "b = {1,2,3,5,6,7}\n",
    "c = a.union(b)\n",
    "print (c)\n",
    "a.update(b)\n",
    "print (a)"
   ]
  },
  {
   "cell_type": "code",
   "execution_count": 14,
   "id": "5815db5a-749e-4143-95fb-c5b9f596bb91",
   "metadata": {},
   "outputs": [
    {
     "name": "stdout",
     "output_type": "stream",
     "text": [
      "{'K': 90, 'L': 80, 'M': 70}\n",
      "dict_keys(['K', 'L', 'M'])\n",
      "dict_values([90, 80, 70])\n",
      "dict_items([('K', 90), ('L', 80), ('M', 70)])\n",
      "{'K': 90, 'L': 80, 'M': 70, 'N': 60}\n",
      "{'K': 90, 'L': 80, 'M': 70, 'N': 50}\n"
     ]
    }
   ],
   "source": [
    "D = {\"K\" : 90, \"L\" : 80, \"M\" : 70 }\n",
    "print(D)\n",
    "print(D.keys())\n",
    "print(D.values())\n",
    "print(D.items())\n",
    "\n",
    "D[\"N\"] = 60\n",
    "print(D)\n",
    "\n",
    "D[\"N\"] = 50\n",
    "print(D)"
   ]
  },
  {
   "cell_type": "code",
   "execution_count": 20,
   "id": "ed9d83ed-3e0d-4cb7-ba2b-6623d5483b45",
   "metadata": {},
   "outputs": [
    {
     "name": "stdout",
     "output_type": "stream",
     "text": [
      "{'K': 90, 'L': 80, 'M': 70, 'A': 10}\n",
      "{'B': 90, 'V': 80, 'M': 70, 'O': 10}\n"
     ]
    }
   ],
   "source": [
    "#two dictionary can be added using the update format\n",
    "L = {\"A\":10}\n",
    "D = {\"K\" : 90, \"L\" : 80, \"M\" : 70 }\n",
    "D.update(L)\n",
    "print(D)\n",
    "\n",
    "S = {\"A\":10}\n",
    "P = {\"B\" : 90, \"V\" : 80, \"M\" : 70 }\n",
    "P.update({\"O\":10})\n",
    "print(P)"
   ]
  },
  {
   "cell_type": "code",
   "execution_count": null,
   "id": "64a60ca9-d99c-46ff-99f2-58bdbb0f7b8d",
   "metadata": {},
   "outputs": [],
   "source": []
  }
 ],
 "metadata": {
  "kernelspec": {
   "display_name": "Python 3 (ipykernel)",
   "language": "python",
   "name": "python3"
  },
  "language_info": {
   "codemirror_mode": {
    "name": "ipython",
    "version": 3
   },
   "file_extension": ".py",
   "mimetype": "text/x-python",
   "name": "python",
   "nbconvert_exporter": "python",
   "pygments_lexer": "ipython3",
   "version": "3.13.5"
  }
 },
 "nbformat": 4,
 "nbformat_minor": 5
}
