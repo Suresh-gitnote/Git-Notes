{
 "cells": [
  {
   "cell_type": "code",
   "execution_count": 29,
   "id": "0a061e4a-19f0-4685-8a6b-ecf0d582a2e5",
   "metadata": {},
   "outputs": [],
   "source": [
    "# Anagram\n",
    "k1=\"silent\"\n",
    "k2=\"listen\"\n",
    "count1={}\n",
    "\n",
    "for i in k1:\n",
    "    if i not in count1:\n",
    "        count1[i]=1\n",
    "    else:\n",
    "        count1[i]+=1\n",
    "        \n",
    "count2={}\n",
    "for i in k2:\n",
    "    if i not in count2:\n",
    "        count2[i]=1\n",
    "    else:\n",
    "        count2[i]+=1\n",
    "        \n",
    "\n",
    "        "
   ]
  },
  {
   "cell_type": "code",
   "execution_count": 9,
   "id": "8e85ca53-ab42-4ba2-936c-177fd84e2cbb",
   "metadata": {},
   "outputs": [
    {
     "name": "stdout",
     "output_type": "stream",
     "text": [
      "1 1\n",
      "1 2\n",
      "1 4\n",
      "1 5\n",
      "1 7\n",
      "1 8\n",
      "2 1\n",
      "2 2\n",
      "2 4\n",
      "2 5\n",
      "2 7\n",
      "2 8\n",
      "4 1\n",
      "4 2\n",
      "4 4\n",
      "4 5\n",
      "4 7\n",
      "4 8\n",
      "5 1\n",
      "5 2\n",
      "5 4\n",
      "5 5\n",
      "5 7\n",
      "5 8\n",
      "7 1\n",
      "7 2\n",
      "7 4\n",
      "7 5\n",
      "7 7\n",
      "7 8\n",
      "8 1\n",
      "8 2\n",
      "8 4\n",
      "8 5\n",
      "8 7\n",
      "8 8\n"
     ]
    }
   ],
   "source": [
    "a=[1,2,4,5,7,8,]\n",
    "for i in a:\n",
    "    for j in a:\n",
    "        print(i,j)"
   ]
  },
  {
   "cell_type": "code",
   "execution_count": 17,
   "id": "c09dd11d-0751-40e2-858b-58f34b3cdf9f",
   "metadata": {},
   "outputs": [
    {
     "name": "stdout",
     "output_type": "stream",
     "text": [
      "5\n",
      "7\n"
     ]
    }
   ],
   "source": [
    "a=[4,5,7,8,]\n",
    "for i in range(len(a)):\n",
    "    for j in range(len(a)):\n",
    "        #print(i)\n",
    "        #print(j)\n",
    "        #print(i,j)\n",
    "        #print(a[i],a[j])\n",
    "        if a[i]<=a[j]:\n",
    "            a[i],a[j]=a[j],a[i]\n",
    "print(a[1])\n",
    "print(a[-2])            "
   ]
  },
  {
   "cell_type": "code",
   "execution_count": null,
   "id": "bcb8d3d7-6426-47b7-81c8-cbbd80bae71a",
   "metadata": {},
   "outputs": [],
   "source": []
  }
 ],
 "metadata": {
  "kernelspec": {
   "display_name": "Python 3 (ipykernel)",
   "language": "python",
   "name": "python3"
  },
  "language_info": {
   "codemirror_mode": {
    "name": "ipython",
    "version": 3
   },
   "file_extension": ".py",
   "mimetype": "text/x-python",
   "name": "python",
   "nbconvert_exporter": "python",
   "pygments_lexer": "ipython3",
   "version": "3.13.5"
  }
 },
 "nbformat": 4,
 "nbformat_minor": 5
}
