{
 "cells": [
  {
   "cell_type": "code",
   "execution_count": 1,
   "id": "9d2b38a7-ed0f-4f9f-b74a-43c1fb0daa5d",
   "metadata": {},
   "outputs": [
    {
     "name": "stdout",
     "output_type": "stream",
     "text": [
      "0\n",
      "1\n",
      "2\n",
      "3\n",
      "4\n",
      "5\n",
      "6\n",
      "7\n",
      "8\n",
      "9\n"
     ]
    }
   ],
   "source": [
    "# Loop  2 loops in python \"for\" and \"while\"\n",
    "# 4-9-2025\n",
    "\n",
    "# for loop execute till the range \n",
    "# while loop execute till the condition satisfys\n",
    "\n",
    "for a in range(10): # loop for the given range\n",
    "    print(a)"
   ]
  },
  {
   "cell_type": "code",
   "execution_count": 2,
   "id": "6f22e75c-4e97-4985-a5f0-812122ce15bd",
   "metadata": {},
   "outputs": [
    {
     "name": "stdout",
     "output_type": "stream",
     "text": [
      "4\n",
      "5\n",
      "6\n",
      "7\n",
      "8\n",
      "9\n"
     ]
    }
   ],
   "source": [
    "for a in range(4,10):  # defining the starting and ending range\n",
    "    print(a)"
   ]
  },
  {
   "cell_type": "code",
   "execution_count": 3,
   "id": "41724bfd-4b67-4f57-838e-8891ba07d14f",
   "metadata": {},
   "outputs": [
    {
     "name": "stdout",
     "output_type": "stream",
     "text": [
      "1\n",
      "3\n",
      "5\n",
      "7\n",
      "9\n"
     ]
    }
   ],
   "source": [
    "for a in range(1,11,2): # 2 is the jumping / increment by \n",
    "    print(a)"
   ]
  },
  {
   "cell_type": "code",
   "execution_count": 7,
   "id": "7894f285-c139-4bd7-bd63-45693cc8b3d6",
   "metadata": {},
   "outputs": [],
   "source": [
    "# continue pass break these 3 key words in for and while\n"
   ]
  },
  {
   "cell_type": "code",
   "execution_count": 8,
   "id": "a88ba8cd-d43c-4ace-8a3c-eb6239cd44d3",
   "metadata": {},
   "outputs": [
    {
     "name": "stdout",
     "output_type": "stream",
     "text": [
      "1\n",
      "3\n",
      "4\n",
      "5\n",
      "6\n",
      "7\n"
     ]
    }
   ],
   "source": [
    "a=[1,3,4,5,6,7]\n",
    "for i in a:\n",
    "    print(i)"
   ]
  },
  {
   "cell_type": "code",
   "execution_count": 9,
   "id": "792e05a2-31b0-43cb-af61-7827e94c3671",
   "metadata": {},
   "outputs": [
    {
     "name": "stdout",
     "output_type": "stream",
     "text": [
      "0 1\n",
      "1 3\n",
      "2 4\n",
      "3 5\n",
      "4 6\n",
      "5 7\n"
     ]
    }
   ],
   "source": [
    "a=[1,3,4,5,6,7]  # to print the position indexing along with the value \n",
    "for i,j in enumerate(a):\n",
    "    print(i,j)"
   ]
  },
  {
   "cell_type": "code",
   "execution_count": 13,
   "id": "b3a14727-a35b-44a7-b7f8-ab94e15a7271",
   "metadata": {},
   "outputs": [
    {
     "name": "stdout",
     "output_type": "stream",
     "text": [
      "odd\n"
     ]
    }
   ],
   "source": [
    "#l=[5,6,8,10,7,17]   # need only the odd numbers\n",
    "k=5\n",
    "if k%2!=0:\n",
    "    print(\"odd\")"
   ]
  },
  {
   "cell_type": "code",
   "execution_count": 25,
   "id": "246931bb-988e-416f-ad75-ebcffe1f5cf6",
   "metadata": {},
   "outputs": [
    {
     "name": "stdout",
     "output_type": "stream",
     "text": [
      "5 odd\n",
      "7 odd\n",
      "17 odd\n"
     ]
    }
   ],
   "source": [
    "l=[5,6,8,10,7,17]  \n",
    "\n",
    "for i in l:\n",
    "    if i%2!=0:\n",
    "        print(i,\"odd\")\n",
    "\n",
    "\n",
    "    "
   ]
  },
  {
   "cell_type": "code",
   "execution_count": 27,
   "id": "1b5cf878-fa57-4be4-a963-3204c36fda80",
   "metadata": {},
   "outputs": [
    {
     "data": {
      "text/plain": [
       "' Tomorrow \\nmax and min in the above list to be printed\\nsecond max and second min in the above list to be printed '"
      ]
     },
     "execution_count": 27,
     "metadata": {},
     "output_type": "execute_result"
    }
   ],
   "source": [
    "''' Tomorrow \n",
    "max and min in the above list to be printed\n",
    "second max and second min in the above list to be printed '''"
   ]
  },
  {
   "cell_type": "code",
   "execution_count": 6,
   "id": "727b6695-b88a-424b-b3a8-1ce567e92db6",
   "metadata": {},
   "outputs": [
    {
     "name": "stdout",
     "output_type": "stream",
     "text": [
      "17 Highest Number\n",
      "17 Highest Number\n",
      "17 Highest Number\n",
      "17 Highest Number\n",
      "17 Highest Number\n",
      "17 Highest Number\n"
     ]
    }
   ],
   "source": [
    "l=[5,6,8,10,7,17]\n",
    "\n",
    "\n",
    "for i in l:\n",
    "    print(max(l), \"Highest Number\")\n"
   ]
  },
  {
   "cell_type": "code",
   "execution_count": 9,
   "id": "0f076881-30f5-47c9-8170-c7ff1e1eb0a3",
   "metadata": {},
   "outputs": [
    {
     "name": "stdout",
     "output_type": "stream",
     "text": [
      "5\n"
     ]
    }
   ],
   "source": [
    "l=[5,6,8,10,7,17]\n",
    "m=l[0]\n",
    "\n",
    "for i in l:\n",
    "    if m>=i:\n",
    "        m=i\n",
    "print(m)"
   ]
  },
  {
   "cell_type": "code",
   "execution_count": 10,
   "id": "65a3d8d9-c449-4aa4-9782-d3b62325a961",
   "metadata": {},
   "outputs": [
    {
     "name": "stdout",
     "output_type": "stream",
     "text": [
      "17\n"
     ]
    }
   ],
   "source": [
    "l=[5,6,8,10,7,17]\n",
    "m=l[0]\n",
    "\n",
    "for i in l:\n",
    "    if m<=i:\n",
    "        m=i\n",
    "print(m)"
   ]
  },
  {
   "cell_type": "code",
   "execution_count": null,
   "id": "abf49a54-ea4a-4cf5-90ac-fc77d0b5dbfb",
   "metadata": {},
   "outputs": [],
   "source": []
  }
 ],
 "metadata": {
  "kernelspec": {
   "display_name": "Python 3 (ipykernel)",
   "language": "python",
   "name": "python3"
  },
  "language_info": {
   "codemirror_mode": {
    "name": "ipython",
    "version": 3
   },
   "file_extension": ".py",
   "mimetype": "text/x-python",
   "name": "python",
   "nbconvert_exporter": "python",
   "pygments_lexer": "ipython3",
   "version": "3.13.5"
  }
 },
 "nbformat": 4,
 "nbformat_minor": 5
}
