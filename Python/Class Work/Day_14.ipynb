{
 "cells": [
  {
   "cell_type": "code",
   "execution_count": 5,
   "id": "2e8cbec4-585f-4cb3-8b91-fbe6bb7d3273",
   "metadata": {},
   "outputs": [
    {
     "name": "stdin",
     "output_type": "stream",
     "text": [
      "Enter your text: madam\n"
     ]
    },
    {
     "ename": "TypeError",
     "evalue": "object of type 'NoneType' has no len()",
     "output_type": "error",
     "traceback": [
      "\u001b[1;31m---------------------------------------------------------------------------\u001b[0m",
      "\u001b[1;31mTypeError\u001b[0m                                 Traceback (most recent call last)",
      "Cell \u001b[1;32mIn[5], line 8\u001b[0m\n\u001b[0;32m      4\u001b[0m     text\u001b[38;5;241m=\u001b[39m\u001b[38;5;28mstr\u001b[39m(\u001b[38;5;28minput\u001b[39m(\u001b[38;5;124m\"\u001b[39m\u001b[38;5;124mEnter your text:\u001b[39m\u001b[38;5;124m\"\u001b[39m))\n\u001b[0;32m      5\u001b[0m     \u001b[38;5;66;03m#print(\"madam\")\u001b[39;00m\n\u001b[1;32m----> 8\u001b[0m \u001b[38;5;28;01mfor\u001b[39;00m i \u001b[38;5;129;01min\u001b[39;00m \u001b[38;5;28mlen\u001b[39m(function1()):\n\u001b[0;32m      9\u001b[0m     \u001b[38;5;28;01mfor\u001b[39;00m j \u001b[38;5;129;01min\u001b[39;00m \u001b[38;5;28mlen\u001b[39m(function1()):\n\u001b[0;32m     10\u001b[0m              \u001b[38;5;28;01mif\u001b[39;00m a[i]\u001b[38;5;241m==\u001b[39ma[j]:\n",
      "\u001b[1;31mTypeError\u001b[0m: object of type 'NoneType' has no len()"
     ]
    }
   ],
   "source": [
    "#         function             9-Sep-2025\n",
    "\n",
    "def function1():\n",
    "    text=str(input(\"Enter your text:\"))\n",
    "\n",
    " \n",
    "for i in len(function1()):\n",
    "    for j in len(function1()):\n",
    "             if a[i]==a[j]:\n",
    "                 print(function1(),\"is palindrom\")\n",
    "             else:\n",
    "                 print(function1(),\"is not palindrom\")\n",
    "            "
   ]
  },
  {
   "cell_type": "code",
   "execution_count": 9,
   "id": "cf9f0c03-5d06-4785-8012-f569ccb2fbc2",
   "metadata": {},
   "outputs": [
    {
     "name": "stdout",
     "output_type": "stream",
     "text": [
      "not\n"
     ]
    }
   ],
   "source": [
    "def pali(a):\n",
    "    if a==a[::-1]:\n",
    "        print(\"Palindrom\")\n",
    "    else:\n",
    "        print(\"not\")\n",
    "pali(\"jamal\")"
   ]
  },
  {
   "cell_type": "code",
   "execution_count": 10,
   "id": "0b6eb14c-00bf-419b-9607-1c90ea7f7a21",
   "metadata": {},
   "outputs": [
    {
     "name": "stdout",
     "output_type": "stream",
     "text": [
      "11\n"
     ]
    }
   ],
   "source": [
    "def add(a,b):\n",
    "    c=a+b\n",
    "    print(c)\n",
    "add(5,6)"
   ]
  },
  {
   "cell_type": "code",
   "execution_count": 14,
   "id": "c68ee955-01bf-445a-ab07-f6ae57816125",
   "metadata": {},
   "outputs": [
    {
     "name": "stdout",
     "output_type": "stream",
     "text": [
      "77\n"
     ]
    }
   ],
   "source": [
    "def add(a,b):\n",
    "    c=a+b\n",
    "    return c\n",
    "add(5,6)\n",
    "#print(c)\n",
    "#multi\n",
    "k=add(5,6)\n",
    "#print(k)\n",
    "d=7\n",
    "print(k*7)"
   ]
  },
  {
   "cell_type": "code",
   "execution_count": 20,
   "id": "11025488-b612-45bd-873f-9b7f6f78e5ac",
   "metadata": {},
   "outputs": [
    {
     "name": "stdout",
     "output_type": "stream",
     "text": [
      "20\n"
     ]
    }
   ],
   "source": [
    "def add(a,b):\n",
    "    c=a+b\n",
    "    return c\n",
    "\n",
    "def sub(e,d):\n",
    "    f=e-d\n",
    "    return f \n",
    "\n",
    "m=add(6,4)\n",
    "n=sub(8,6)\n",
    "\n",
    "print(m*n)"
   ]
  },
  {
   "cell_type": "code",
   "execution_count": 24,
   "id": "59058ff7-98e8-4f75-9edd-5b2fd6e938a8",
   "metadata": {},
   "outputs": [
    {
     "name": "stdout",
     "output_type": "stream",
     "text": [
      "8\n"
     ]
    }
   ],
   "source": [
    "def add(num1,num2,num3=5): #since the number value is mentioned no need to assign the value for the 3rd value in the argument \n",
    "    k=num2+num1\n",
    "    return k\n",
    "\n",
    "l=add(num2=3,num1=5) #since the number value is mentioned already above no need to assign the value for the 3rd value in the argument\n",
    "print(l)"
   ]
  },
  {
   "cell_type": "code",
   "execution_count": 29,
   "id": "791b2e8a-45ba-401b-be7d-5a06f48b8b57",
   "metadata": {},
   "outputs": [
    {
     "name": "stdout",
     "output_type": "stream",
     "text": [
      "10\n"
     ]
    }
   ],
   "source": [
    "def add(**k):  #multiple values could be added using the double ** in the function defining\n",
    "    print(k[\"num4\"])\n",
    "\n",
    "add(num2=2,num1=3,num3=4,num4=10)"
   ]
  },
  {
   "cell_type": "code",
   "execution_count": 30,
   "id": "f8e20f69-ee5a-4d8a-b864-7ea6b92188b0",
   "metadata": {},
   "outputs": [
    {
     "ename": "_IncompleteInputError",
     "evalue": "incomplete input (275933909.py, line 9)",
     "output_type": "error",
     "traceback": [
      "\u001b[1;36m  Cell \u001b[1;32mIn[30], line 9\u001b[1;36m\u001b[0m\n\u001b[1;33m    def sub():\u001b[0m\n\u001b[1;37m              ^\u001b[0m\n\u001b[1;31m_IncompleteInputError\u001b[0m\u001b[1;31m:\u001b[0m incomplete input\n"
     ]
    }
   ],
   "source": [
    "a=2\n",
    "b=3\n",
    "\n",
    "def add():\n",
    "    global c,d\n",
    "    c=a+b\n",
    "    d=a-b\n",
    "    print(\"hi\")\n",
    "def sub():\n"
   ]
  },
  {
   "cell_type": "code",
   "execution_count": 43,
   "id": "96455d7f-40f8-4a9d-afb9-08b0481cf186",
   "metadata": {},
   "outputs": [],
   "source": [
    "try:\n",
    "    s=20\n",
    "    r=\"hi\"\n",
    "    #print(r/s)\n",
    "except:\n",
    "    print(r/s)\n",
    "    "
   ]
  },
  {
   "cell_type": "code",
   "execution_count": 45,
   "id": "b8f3244c-9dae-4145-a755-53bb257313d7",
   "metadata": {},
   "outputs": [
    {
     "name": "stdout",
     "output_type": "stream",
     "text": [
      "Type Error\n"
     ]
    }
   ],
   "source": [
    "try:\n",
    "    s=20\n",
    "    r=\"hi\"\n",
    "    print(r/s)\n",
    "except TypeError:\n",
    "    print(\"Type Error\")\n",
    "    "
   ]
  },
  {
   "cell_type": "code",
   "execution_count": 39,
   "id": "f94c016c-dc60-4bcf-befb-3d9f7e65e744",
   "metadata": {},
   "outputs": [
    {
     "name": "stdout",
     "output_type": "stream",
     "text": [
      "Division by Zero Error\n"
     ]
    }
   ],
   "source": [
    "try:\n",
    "    s=0\n",
    "    r=5\n",
    "    print(r/s)\n",
    "except ZeroDivisionError:\n",
    "    print(\"Division by Zero Error\")"
   ]
  },
  {
   "cell_type": "code",
   "execution_count": 46,
   "id": "2e83c988-5bf0-43a8-bebb-a97a66ce47e3",
   "metadata": {},
   "outputs": [
    {
     "name": "stdout",
     "output_type": "stream",
     "text": [
      "unsupported operand type(s) for /: 'int' and 'str'\n"
     ]
    }
   ],
   "source": [
    "try:\n",
    "    s=0\n",
    "    r=\"ok\"\n",
    "    m=s/r\n",
    "    print(r/s)\n",
    "except Exception as e:\n",
    "    print(e)"
   ]
  },
  {
   "cell_type": "code",
   "execution_count": 3,
   "id": "999490bc-87d5-4af0-94ba-a8573707a084",
   "metadata": {},
   "outputs": [
    {
     "name": "stdin",
     "output_type": "stream",
     "text": [
      "Enter 1st Value: vjghv\n"
     ]
    },
    {
     "name": "stdout",
     "output_type": "stream",
     "text": [
      "Enter Valid Number\n"
     ]
    }
   ],
   "source": [
    "try:\n",
    "    a=int(input(\"Enter 1st Value:\"))\n",
    "    b=int(input(\"Enter 2nd Value:\"))\n",
    "    math=(input(\"Enter operation (+, -, *, /):\"))\n",
    "\n",
    "    def add():\n",
    "        c=a+b\n",
    "        return c\n",
    "    \n",
    "    def sub():\n",
    "        c=a-b\n",
    "        return c\n",
    "\n",
    "    def div():\n",
    "        c=a/b\n",
    "        return c \n",
    "\n",
    "    def mul():\n",
    "        c=a*b\n",
    "        return c\n",
    "\n",
    "    try:\n",
    "    \n",
    "        if math == \"+\":\n",
    "            print(\"Result:\", add())\n",
    "        elif math == \"-\":\n",
    "            print(\"Result:\", sub())\n",
    "        elif math == \"/\":\n",
    "            print(\"Result:\", div())\n",
    "        elif math == \"*\":\n",
    "            print(\"Result:\", mul())\n",
    "        else:\n",
    "            print(\"Invalid operation.\")\n",
    "    except ZeroDivisionError:\n",
    "        print(\"ZeroDivisionError - Enter Valid Number\")\n",
    "except ValueError:\n",
    "    print(\"Enter Valid Number\")\n"
   ]
  },
  {
   "cell_type": "code",
   "execution_count": null,
   "id": "7429436e-7136-4a51-9ea9-c650e30a3ebd",
   "metadata": {},
   "outputs": [],
   "source": []
  }
 ],
 "metadata": {
  "kernelspec": {
   "display_name": "Python 3 (ipykernel)",
   "language": "python",
   "name": "python3"
  },
  "language_info": {
   "codemirror_mode": {
    "name": "ipython",
    "version": 3
   },
   "file_extension": ".py",
   "mimetype": "text/x-python",
   "name": "python",
   "nbconvert_exporter": "python",
   "pygments_lexer": "ipython3",
   "version": "3.13.5"
  }
 },
 "nbformat": 4,
 "nbformat_minor": 5
}
