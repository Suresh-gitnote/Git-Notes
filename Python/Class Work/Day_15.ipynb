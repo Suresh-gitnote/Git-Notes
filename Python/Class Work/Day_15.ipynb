{
 "cells": [
  {
   "cell_type": "code",
   "execution_count": 3,
   "id": "d004c171-3e7a-45b2-8548-6ff6ed1841a6",
   "metadata": {},
   "outputs": [
    {
     "data": {
      "text/plain": [
       "'This is a new file'"
      ]
     },
     "execution_count": 3,
     "metadata": {},
     "output_type": "execute_result"
    }
   ],
   "source": [
    "f = open(\"File1.txt\", \"x\")\n",
    "f.write(\"This is a new file\")\n",
    "f = open(\"File1.txt\", \"r\")\n",
    "f.read()"
   ]
  },
  {
   "cell_type": "code",
   "execution_count": 6,
   "id": "2cd6423a-d7c3-4008-919a-17aba6830254",
   "metadata": {},
   "outputs": [
    {
     "data": {
      "text/plain": [
       "'This is a new file\\n Checking the append command to see if it the content is added\\n Checking the append command to see if it the content is added\\n Checking the append command to see if it the content is added'"
      ]
     },
     "execution_count": 6,
     "metadata": {},
     "output_type": "execute_result"
    }
   ],
   "source": [
    "f = open(\"File1.txt\", \"a\")\n",
    "f.write(\"\\n Checking the append command to see if it the content is added\")\n",
    "f = open(\"File1.txt\", \"r\")\n",
    "f.read()"
   ]
  },
  {
   "cell_type": "code",
   "execution_count": 7,
   "id": "173b688e-5a59-41ca-939b-2f7ae650841a",
   "metadata": {},
   "outputs": [
    {
     "data": {
      "text/plain": [
       "'This is a new file.\\nChecking the write command for overwriting the content'"
      ]
     },
     "execution_count": 7,
     "metadata": {},
     "output_type": "execute_result"
    }
   ],
   "source": [
    "f = open(\"File1.txt\", \"w\")\n",
    "f.write(\"This is a new file.\\nChecking the write command for overwriting the content\")\n",
    "f = open(\"File1.txt\", \"r\")\n",
    "f.read()"
   ]
  },
  {
   "cell_type": "code",
   "execution_count": 6,
   "id": "5cf10ee5-3bd7-4e03-b969-5abf9ed7515c",
   "metadata": {},
   "outputs": [
    {
     "name": "stdout",
     "output_type": "stream",
     "text": [
      "{'This': 1, 'is': 1, 'a': 1, 'new': 1, 'file.': 1, 'Checking': 1, 'the': 2, 'write': 1, 'command': 1, 'for': 1, 'overwriting': 1, 'content': 1, '4JH6QM9': 1}\n"
     ]
    }
   ],
   "source": [
    "\n",
    "f = open(\"File1.txt\", \"r\")\n",
    "a=f.read()\n",
    "a=a.split()\n",
    "d={}\n",
    "for i in a:\n",
    "    if i not in d:\n",
    "        d[i]=1\n",
    "    else:\n",
    "        d[i]+=1\n",
    "print(d)\n",
    "\n"
   ]
  },
  {
   "cell_type": "code",
   "execution_count": 14,
   "id": "900ed86f-dc3d-4532-af26-73bea655687b",
   "metadata": {},
   "outputs": [
    {
     "ename": "SyntaxError",
     "evalue": "expected ':' (1664311032.py, line 4)",
     "output_type": "error",
     "traceback": [
      "\u001b[1;36m  Cell \u001b[1;32mIn[14], line 4\u001b[1;36m\u001b[0m\n\u001b[1;33m    for i in zip(a,b)\u001b[0m\n\u001b[1;37m                     ^\u001b[0m\n\u001b[1;31mSyntaxError\u001b[0m\u001b[1;31m:\u001b[0m expected ':'\n"
     ]
    }
   ],
   "source": [
    "\n",
    "# need to add the numbers, of a with b with corresponding position number a-2 with b-4, a-3 with b-5\n",
    "a=[2,3,4]\n",
    "b=[4,5,6]\n",
    "c=[]\n",
    "if len(a) == len(b)\n",
    "\n",
    "for i in range(a())\n",
    "append\n",
    "print"
   ]
  },
  {
   "cell_type": "code",
   "execution_count": 15,
   "id": "69490260-2553-4f3a-8d67-6015314a8ef4",
   "metadata": {},
   "outputs": [
    {
     "ename": "IndentationError",
     "evalue": "unexpected indent (1823559529.py, line 5)",
     "output_type": "error",
     "traceback": [
      "\u001b[1;36m  Cell \u001b[1;32mIn[15], line 5\u001b[1;36m\u001b[0m\n\u001b[1;33m    for i in k1:\u001b[0m\n\u001b[1;37m    ^\u001b[0m\n\u001b[1;31mIndentationError\u001b[0m\u001b[1;31m:\u001b[0m unexpected indent\n"
     ]
    }
   ],
   "source": [
    "k1=\"ate\"\n",
    "k2=\"eat\"\n",
    "\n",
    "d1={}\n",
    "    for i in k1:\n",
    "        if i not in d1:\n",
    "            d1[i]=1\n",
    "        else:\n",
    "            d1[i]+=1\n",
    "        return d1\n",
    "if ana(\"eat\")==ana(\"ate\"):\n",
    "    print(\"Anagram\")\n",
    "else:\n",
    "    print(\"Not Anagram\")"
   ]
  },
  {
   "cell_type": "code",
   "execution_count": null,
   "id": "79d211be-266a-4928-99d4-1270293736ff",
   "metadata": {},
   "outputs": [],
   "source": []
  }
 ],
 "metadata": {
  "kernelspec": {
   "display_name": "Python 3 (ipykernel)",
   "language": "python",
   "name": "python3"
  },
  "language_info": {
   "codemirror_mode": {
    "name": "ipython",
    "version": 3
   },
   "file_extension": ".py",
   "mimetype": "text/x-python",
   "name": "python",
   "nbconvert_exporter": "python",
   "pygments_lexer": "ipython3",
   "version": "3.13.5"
  }
 },
 "nbformat": 4,
 "nbformat_minor": 5
}
