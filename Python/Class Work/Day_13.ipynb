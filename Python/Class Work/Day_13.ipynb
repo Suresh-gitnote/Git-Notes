{
 "cells": [
  {
   "cell_type": "code",
   "execution_count": 2,
   "id": "bc725db3-de88-4150-af1f-4bd09704d730",
   "metadata": {},
   "outputs": [
    {
     "name": "stdout",
     "output_type": "stream",
     "text": [
      "Good Morning\n"
     ]
    }
   ],
   "source": [
    "#         function             8-Sep-2025\n",
    "#    syntax for function def functionname():\n",
    "# example\n",
    "def function1():\n",
    "    print(\"Good Morning\")\n",
    "\n",
    "function1()   # only if you call the function name the program will execute/run if not the program will not execute/run"
   ]
  },
  {
   "cell_type": "code",
   "execution_count": 5,
   "id": "f5945dfe-802c-4d5b-9f0c-58721953be17",
   "metadata": {},
   "outputs": [
    {
     "name": "stdout",
     "output_type": "stream",
     "text": [
      "11\n"
     ]
    }
   ],
   "source": [
    "def add(a,b):\n",
    "    c=a+b\n",
    "    print(c)\n",
    "add(5,6)"
   ]
  },
  {
   "cell_type": "code",
   "execution_count": 7,
   "id": "aeab6dea-8763-4255-aa78-d86ef4436468",
   "metadata": {},
   "outputs": [
    {
     "name": "stdin",
     "output_type": "stream",
     "text": [
      "1st value 12\n",
      "2nd value 2\n"
     ]
    },
    {
     "name": "stdout",
     "output_type": "stream",
     "text": [
      "14\n"
     ]
    }
   ],
   "source": [
    "m=int(input(\"1st value\"))\n",
    "n=int(input(\"2nd value\"))     \n",
    "\n",
    "add(m,n)"
   ]
  },
  {
   "cell_type": "code",
   "execution_count": null,
   "id": "f83c1dd1-d866-4e83-9f84-37b7f436f502",
   "metadata": {},
   "outputs": [],
   "source": []
  }
 ],
 "metadata": {
  "kernelspec": {
   "display_name": "Python 3 (ipykernel)",
   "language": "python",
   "name": "python3"
  },
  "language_info": {
   "codemirror_mode": {
    "name": "ipython",
    "version": 3
   },
   "file_extension": ".py",
   "mimetype": "text/x-python",
   "name": "python",
   "nbconvert_exporter": "python",
   "pygments_lexer": "ipython3",
   "version": "3.13.5"
  }
 },
 "nbformat": 4,
 "nbformat_minor": 5
}
