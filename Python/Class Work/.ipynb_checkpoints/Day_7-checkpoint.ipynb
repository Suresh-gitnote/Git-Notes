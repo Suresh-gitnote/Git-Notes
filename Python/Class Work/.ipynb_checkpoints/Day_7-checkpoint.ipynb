{
 "cells": [
  {
   "cell_type": "code",
   "execution_count": 1,
   "id": "9a344993-3c2b-4e85-a571-d29bc84f0f17",
   "metadata": {},
   "outputs": [
    {
     "name": "stdout",
     "output_type": "stream",
     "text": [
      "False\n",
      "True\n",
      "True\n",
      "True\n"
     ]
    }
   ],
   "source": [
    "## 5] Identity Operators - Used to check whether two objects are the same in memory (not just equal in value).\n",
    "##  Operators: is, is not\n",
    "\n",
    "x = [1, 2, 3]\n",
    "y = [1, 2, 3]\n",
    "z = x\n",
    "\n",
    "print(x is y)       # False (different objects, same values)\n",
    "print(x == y)       # True (values are equal)\n",
    "print(x is z)       # True (same object in memory)\n",
    "print(x is not y)   # True\n"
   ]
  },
  {
   "cell_type": "code",
   "execution_count": 2,
   "id": "ff8cef05-3785-4dfd-b607-60c3d7558a43",
   "metadata": {},
   "outputs": [
    {
     "name": "stdout",
     "output_type": "stream",
     "text": [
      "True\n",
      "True\n"
     ]
    }
   ],
   "source": [
    "## 6] Membership Operators - Used to check if a value exists in a sequence (string, list, tuple, etc.).\n",
    "##  Operators: in, not in\n",
    "\n",
    "nums = [1, 2, 3, 4, 5]\n",
    "\n",
    "print(3 in nums)      # True\n",
    "print(10 not in nums) # True\n"
   ]
  },
  {
   "cell_type": "code",
   "execution_count": 3,
   "id": "e7b670f0-ffec-4050-8be0-1c35e34e296b",
   "metadata": {},
   "outputs": [
    {
     "name": "stdout",
     "output_type": "stream",
     "text": [
      "2\n",
      "7\n",
      "5\n",
      "-7\n",
      "12\n",
      "3\n"
     ]
    }
   ],
   "source": [
    "## 7] Bitwise Operators - Work at the binary level (bit by bit operations).\n",
    "##  Operators: & (AND), | (OR), ^ (XOR), ~ (NOT), << (left shift), >> (right shift) \n",
    "\n",
    "a = 6   # 110 in binary\n",
    "b = 3   # 011 in binary\n",
    "\n",
    "print(a & b)   # 2 (010 - AND)\n",
    "print(a | b)   # 7 (111 - OR)\n",
    "print(a ^ b)   # 5 (101 - XOR)\n",
    "print(~a)      # -7 (NOT, flips bits)\n",
    "print(a << 1)  # 12 (1100 - left shift)\n",
    "print(a >> 1)  # 3  (011 - right shift)"
   ]
  },
  {
   "cell_type": "code",
   "execution_count": null,
   "id": "ccd3211d-9b5a-4221-929d-7677b3a7067f",
   "metadata": {},
   "outputs": [],
   "source": []
  }
 ],
 "metadata": {
  "kernelspec": {
   "display_name": "Python [conda env:base] *",
   "language": "python",
   "name": "conda-base-py"
  },
  "language_info": {
   "codemirror_mode": {
    "name": "ipython",
    "version": 3
   },
   "file_extension": ".py",
   "mimetype": "text/x-python",
   "name": "python",
   "nbconvert_exporter": "python",
   "pygments_lexer": "ipython3",
   "version": "3.13.5"
  }
 },
 "nbformat": 4,
 "nbformat_minor": 5
}
