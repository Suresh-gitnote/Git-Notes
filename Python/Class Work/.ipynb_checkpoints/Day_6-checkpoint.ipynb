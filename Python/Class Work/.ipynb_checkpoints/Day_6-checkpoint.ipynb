{
 "cells": [
  {
   "cell_type": "code",
   "execution_count": 1,
   "id": "8de8349b-a108-4f0b-b276-ce5e823fa241",
   "metadata": {},
   "outputs": [
    {
     "name": "stdout",
     "output_type": "stream",
     "text": [
      "13\n",
      "7\n",
      "30\n",
      "3.3333333333333335\n",
      "1\n",
      "1000\n",
      "3\n"
     ]
    }
   ],
   "source": [
    "## Operators\n",
    "''' There are total of 7 types of main operators\n",
    "1] Arithmetic Operator\n",
    "2] Assignment Operator\n",
    "3] Comparission Operator\n",
    "4] Logical Operator\n",
    "5] Identity Operator\n",
    "6] Membership Operator\n",
    "7] Bitwise Operator'''\n",
    "\n",
    "## 1] Arithmetic Operators - Used for basic mathematical operations.\n",
    "##  Operators: +, -, *, /, %, **, //\n",
    "\n",
    "a = 10\n",
    "b = 3\n",
    "\n",
    "print(a + b)   # 13 (Addition)\n",
    "print(a - b)   # 7 (Subtraction)\n",
    "print(a * b)   # 30 (Multiplication)\n",
    "print(a / b)   # 3.333... (Division)\n",
    "print(a % b)   # 1 (Modulus - remainder)\n",
    "print(a ** b)  # 1000 (Exponentiation/power- 10^3)\n",
    "print(a // b)  # 3 (Floor division - quotient only)\n"
   ]
  },
  {
   "cell_type": "code",
   "execution_count": 2,
   "id": "63458a26-05dd-4767-9aef-0ac4d4b54e85",
   "metadata": {},
   "outputs": [
    {
     "name": "stdout",
     "output_type": "stream",
     "text": [
      "4\n"
     ]
    }
   ],
   "source": [
    "## 2] Assignment Operators - Used to assign values to variables.\n",
    "##  Operators: =, +=, -=, *=, /=, %=, //=, **=\n",
    "\n",
    "x = 5       # Assign 5 to x\n",
    "x += 3      # x = x + 3 → 8\n",
    "x *= 2      # x = x * 2 → 16\n",
    "x //= 4     # x = x // 4 → 4\n",
    "print(x)    # Final value = 4\n"
   ]
  },
  {
   "cell_type": "code",
   "execution_count": 3,
   "id": "437326da-3622-4faf-8219-7495d1ad59f8",
   "metadata": {},
   "outputs": [
    {
     "name": "stdout",
     "output_type": "stream",
     "text": [
      "False\n",
      "True\n",
      "False\n",
      "True\n",
      "True\n",
      "False\n"
     ]
    }
   ],
   "source": [
    "## 3] Comparison (Relational) Operators - Used to compare two values. Returns True or False.\n",
    "##  Operators: ==, !=, >, <, >=, <=\n",
    "\n",
    "a = 10\n",
    "b = 20\n",
    "\n",
    "print(a == b)   # False (equal to)\n",
    "print(a != b)   # True (not equal to)\n",
    "print(a > b)    # False\n",
    "print(a < b)    # True\n",
    "print(a >= 10)  # True\n",
    "print(b <= 15)  # False\n"
   ]
  },
  {
   "cell_type": "code",
   "execution_count": 4,
   "id": "d600e3e0-3323-4253-823e-767492d7ff8d",
   "metadata": {},
   "outputs": [
    {
     "name": "stdout",
     "output_type": "stream",
     "text": [
      "True\n",
      "True\n",
      "False\n"
     ]
    }
   ],
   "source": [
    "## 4] Logical Operators - Used to combine conditional statements.\n",
    "##  Operators: and, or, not\n",
    "\n",
    "x = 5\n",
    "\n",
    "print(x > 0 and x < 10)  # True (both conditions true)\n",
    "print(x > 10 or x == 5)  # True (one condition true)\n",
    "print(not(x == 5))       # False (negates the result)\n"
   ]
  },
  {
   "cell_type": "code",
   "execution_count": null,
   "id": "6c814548-825b-446a-be7a-6730a9b20933",
   "metadata": {},
   "outputs": [],
   "source": []
  }
 ],
 "metadata": {
  "kernelspec": {
   "display_name": "Python [conda env:base] *",
   "language": "python",
   "name": "conda-base-py"
  },
  "language_info": {
   "codemirror_mode": {
    "name": "ipython",
    "version": 3
   },
   "file_extension": ".py",
   "mimetype": "text/x-python",
   "name": "python",
   "nbconvert_exporter": "python",
   "pygments_lexer": "ipython3",
   "version": "3.13.5"
  }
 },
 "nbformat": 4,
 "nbformat_minor": 5
}
