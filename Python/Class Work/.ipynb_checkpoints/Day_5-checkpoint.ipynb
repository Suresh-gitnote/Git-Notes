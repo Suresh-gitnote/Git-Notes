{
 "cells": [
  {
   "cell_type": "code",
   "execution_count": 2,
   "id": "0cb17cff-d607-49b2-8e63-e1858f58492f",
   "metadata": {},
   "outputs": [
    {
     "name": "stdout",
     "output_type": "stream",
     "text": [
      "apple\n",
      "cherry\n",
      "date\n",
      "cherry\n"
     ]
    }
   ],
   "source": [
    "'''    String\n",
    "    Anything within single or double quotes is a string'''\n",
    "\n",
    "'''    Indexing \n",
    "Indexing in Python simply means accessing \n",
    "elements of a sequence (like string, list, tuple, etc.) using their position (index number).'''\n",
    "\n",
    "fruits = [\"apple\", \"banana\", \"cherry\", \"date\"]\n",
    "\n",
    "print(fruits[0])   # \"apple\" (first element)\n",
    "print(fruits[2])   # \"cherry\"\n",
    "print(fruits[-1])  # \"date\" (last element)\n",
    "print(fruits[-2])  # \"cherry\" (second last)"
   ]
  },
  {
   "cell_type": "code",
   "execution_count": 11,
   "id": "f1399168-dedc-4641-837e-e64da330d24e",
   "metadata": {},
   "outputs": [
    {
     "name": "stdout",
     "output_type": "stream",
     "text": [
      "H\n",
      "l\n",
      "!\n",
      "d\n",
      "o\n",
      "w\n",
      "o\n"
     ]
    }
   ],
   "source": [
    "K = \"Hello world!\"\n",
    "\n",
    "print(K[0])   # \"H\" (first element)\n",
    "print(K[2])   # \"l\"\n",
    "print(K[-1])  # \"!\" (last element)\n",
    "print(K[-2])  # \"d\" (second last)\n",
    "print(K[4])   # \"o\" (fifth element as the indexing starts from 0 last)\n",
    "print(K[4+2]) # \"w\" (sixth element space is also included in indexing)\n",
    "print(K[-8])  # \"o\" (negitive eight element in indexing)\n",
    "\n",
    "## Python strats the inxeding number from 0,1,2,...\n",
    "## if the indexing number is negitive it starts from -1,-2,-3,..."
   ]
  },
  {
   "cell_type": "code",
   "execution_count": 16,
   "id": "406422c1-0ccf-4464-a208-d7838b7ac834",
   "metadata": {},
   "outputs": [
    {
     "name": "stdout",
     "output_type": "stream",
     "text": [
      "ello\n",
      "Hello\n",
      "o world\n",
      "Hello wo\n"
     ]
    }
   ],
   "source": [
    "K = \"Hello world!\"\n",
    "\n",
    "\n",
    "print(K[1:5])\n",
    "print(K[0:5])\n",
    "print(K[-8:-1])\n",
    "print(K[0:-4])"
   ]
  },
  {
   "cell_type": "code",
   "execution_count": 22,
   "id": "a0e06b51-1a56-46a2-af05-a57afaff446a",
   "metadata": {},
   "outputs": [
    {
     "name": "stdout",
     "output_type": "stream",
     "text": [
      "Python\n",
      "Python\n",
      "\n",
      "    Python\n",
      "Python\n",
      "\n",
      "Python    \n",
      "Python\n",
      "\n",
      "     Python    \n",
      "Python\n",
      "\n",
      "    Python is coding language   \n",
      "Python is coding language\n"
     ]
    }
   ],
   "source": [
    "## Strip to remove the white/blank space from the beginning and at the end \n",
    "## of the string(word/Statement/sentence)\n",
    "\n",
    "A = \"Python\"                    ## without space\n",
    "B = \"    Python\"                ## begins with space\n",
    "C = \"Python    \"                ## ends with space\n",
    "D = \"     Python    \"           ## begins and ends with space\n",
    "E = \"    Python is coding language   \"  ## begins and ends with space also has inbetween but those are not disturbed\n",
    "\n",
    "print(A)\n",
    "print(A.strip())\n",
    "print()\n",
    "print(B)\n",
    "print(B.strip())\n",
    "print()\n",
    "print(C)\n",
    "print(C.strip())\n",
    "print()\n",
    "print(D)\n",
    "print(D.strip())\n",
    "print()\n",
    "print(E)\n",
    "print(E.strip())"
   ]
  },
  {
   "cell_type": "code",
   "execution_count": 25,
   "id": "82961c66-bdfc-4751-b905-3b456d2d7a9c",
   "metadata": {},
   "outputs": [
    {
     "name": "stdout",
     "output_type": "stream",
     "text": [
      "My name is Suresh and I am 25 years old\n",
      "I am Suresh from Adyar\n"
     ]
    }
   ],
   "source": [
    "## F denotes format. Change the specific word or string value without shaning the entire string value or content\n",
    "\n",
    "## example 1\n",
    "name = \"Suresh\"\n",
    "age = 25\n",
    "\n",
    "print(\"My name is {} and I am {} years old\".format(name, age))\n",
    "\n",
    "## example 2\n",
    "Name = \"Suresh\"\n",
    "Place = \"Adyar\"\n",
    "\n",
    "K = f\"I am {Name} from {Place}\"\n",
    "print(K)"
   ]
  },
  {
   "cell_type": "code",
   "execution_count": null,
   "id": "80d6e69f-1574-4a62-9e0f-9d0013e98374",
   "metadata": {},
   "outputs": [],
   "source": []
  }
 ],
 "metadata": {
  "kernelspec": {
   "display_name": "Python [conda env:base] *",
   "language": "python",
   "name": "conda-base-py"
  },
  "language_info": {
   "codemirror_mode": {
    "name": "ipython",
    "version": 3
   },
   "file_extension": ".py",
   "mimetype": "text/x-python",
   "name": "python",
   "nbconvert_exporter": "python",
   "pygments_lexer": "ipython3",
   "version": "3.13.5"
  }
 },
 "nbformat": 4,
 "nbformat_minor": 5
}
