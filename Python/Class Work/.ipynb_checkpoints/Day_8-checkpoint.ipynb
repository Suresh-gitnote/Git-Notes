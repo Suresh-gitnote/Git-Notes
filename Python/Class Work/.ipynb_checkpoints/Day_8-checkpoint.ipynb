{
 "cells": [
  {
   "cell_type": "code",
   "execution_count": 12,
   "id": "27edcf54-d106-4bd1-b4b1-abce3b7fd6b3",
   "metadata": {},
   "outputs": [
    {
     "name": "stdout",
     "output_type": "stream",
     "text": [
      "5\n",
      "10\n"
     ]
    }
   ],
   "source": [
    "##     Condition Statement\n",
    "''' 3 types\n",
    "condition needs to be satisfied to get the desired output\n",
    "1) if\n",
    "2) elif - else + if together called elif\n",
    "3) else\n",
    "\n",
    "irrespective of the aboe if any condition key word is starting then the next line must start with a space/tab \n",
    "inorder to work accordingly if not you will get like the below error\n",
    "---Error----\n",
    "Cell In[3], line 22\n",
    "    print(a)\n",
    "    ^\n",
    "IndentationError: expected an indented block after 'if' statement on line 21\n",
    "---Error----\n",
    "ex: k=2\n",
    "    y=5\n",
    "\n",
    "if k>y:\n",
    "    print(k)\n",
    "    else print(\"False\")\n",
    "\n",
    "## for any codition statement the line should end with colon :\n",
    "'''\n",
    "a = 5\n",
    "b = 10\n",
    "if a==5:\n",
    " print(a)\n",
    "\n",
    "a = 5\n",
    "b = 10\n",
    "if a>b:\n",
    "    print(a)\n",
    "else: print(b) ## b is greater"
   ]
  },
  {
   "cell_type": "code",
   "execution_count": 13,
   "id": "ef451a65-87f1-4808-bf2b-ef274c8080eb",
   "metadata": {},
   "outputs": [
    {
     "name": "stdout",
     "output_type": "stream",
     "text": [
      "10\n"
     ]
    }
   ],
   "source": [
    "# method 1\n",
    "a = 5\n",
    "b = 10\n",
    "c = 6\n",
    "if a>b>c:\n",
    "    print(a)\n",
    "elif b>c: \n",
    "    print(b) \n",
    "else:\n",
    "    print(\"same\")"
   ]
  },
  {
   "cell_type": "code",
   "execution_count": 15,
   "id": "f6406498-b425-4f4f-86bb-22329eeffc0f",
   "metadata": {},
   "outputs": [
    {
     "name": "stdout",
     "output_type": "stream",
     "text": [
      "10\n"
     ]
    }
   ],
   "source": [
    "# method 2\n",
    "a = 5\n",
    "b = 10\n",
    "c = 6\n",
    "if a>b and a>c:\n",
    "    print(a)\n",
    "elif b>c: \n",
    "    print(b) \n",
    "else:\n",
    "    print(C)"
   ]
  },
  {
   "cell_type": "code",
   "execution_count": 17,
   "id": "c57013c3-6e89-4484-8ceb-750ad4035810",
   "metadata": {},
   "outputs": [
    {
     "name": "stdout",
     "output_type": "stream",
     "text": [
      "Defined\n"
     ]
    }
   ],
   "source": [
    "a = \"apple\"\n",
    "if a in a:\n",
    "    print(\"Defined\")\n",
    "else:\n",
    "    print(\"Not Defined\")"
   ]
  },
  {
   "cell_type": "code",
   "execution_count": 44,
   "id": "a0d76580-93e4-4013-8379-8f4f542ee5df",
   "metadata": {},
   "outputs": [
    {
     "name": "stdout",
     "output_type": "stream",
     "text": [
      "Wipro\n"
     ]
    }
   ],
   "source": [
    "##    Nested Condition\n",
    "Skill = \"Python\"\n",
    "Exp = 1\n",
    "Company = \"Wipro\"\n",
    "\n",
    "# Skill = \"Python\"\n",
    "# Exp = 2\n",
    "# Company = \"TCS\"\n",
    "\n",
    "Skill = \"Python\"\n",
    "Exp = 2\n",
    "Company = \"TCS\"\n",
    "\n",
    "if Skill == \"Python\":\n",
    "    if Exp == 2:\n",
    "        print(\"Wipro\")\n",
    "    elif Exp == 2:\n",
    "        print(\"TCS\")\n",
    "    else:\n",
    "        print(\"No Match Found\")\n",
    "else:\n",
    "    print(\"No Match\")\n"
   ]
  },
  {
   "cell_type": "code",
   "execution_count": null,
   "id": "c8eff5d3-9c9b-4db1-b2f4-123598980e75",
   "metadata": {},
   "outputs": [],
   "source": []
  }
 ],
 "metadata": {
  "kernelspec": {
   "display_name": "Python [conda env:base] *",
   "language": "python",
   "name": "conda-base-py"
  },
  "language_info": {
   "codemirror_mode": {
    "name": "ipython",
    "version": 3
   },
   "file_extension": ".py",
   "mimetype": "text/x-python",
   "name": "python",
   "nbconvert_exporter": "python",
   "pygments_lexer": "ipython3",
   "version": "3.13.5"
  }
 },
 "nbformat": 4,
 "nbformat_minor": 5
}
