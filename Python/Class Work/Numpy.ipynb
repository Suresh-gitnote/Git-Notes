{
 "cells": [
  {
   "cell_type": "code",
   "execution_count": 1,
   "id": "22abf978-843c-4212-a41c-ecbe16e60a05",
   "metadata": {},
   "outputs": [],
   "source": [
    "#  22-09-2025   NUMPY\n",
    "\n",
    "import numpy\n"
   ]
  },
  {
   "cell_type": "code",
   "execution_count": 2,
   "id": "58da488d-52db-41df-b655-1765847d4bc0",
   "metadata": {},
   "outputs": [
    {
     "name": "stdout",
     "output_type": "stream",
     "text": [
      "[1 2 3 4 5 6]\n"
     ]
    }
   ],
   "source": [
    "a = numpy.array([1,2,3,4,5,6])\n",
    "\n",
    "print(a)"
   ]
  },
  {
   "cell_type": "code",
   "execution_count": 3,
   "id": "75de5be5-266d-40c4-96f5-5b3186a8753d",
   "metadata": {},
   "outputs": [
    {
     "name": "stdout",
     "output_type": "stream",
     "text": [
      "[101 102 103 104 105 106]\n"
     ]
    }
   ],
   "source": [
    "import numpy as sr\n",
    "k=sr.array([101,102,103,104,105,106])\n",
    "print(k)"
   ]
  },
  {
   "cell_type": "code",
   "execution_count": 5,
   "id": "f25f27e7-8e3c-4acf-b237-51db3fd59ceb",
   "metadata": {},
   "outputs": [
    {
     "name": "stdout",
     "output_type": "stream",
     "text": [
      "2.1.3\n"
     ]
    }
   ],
   "source": [
    "print(sr.__version__)"
   ]
  },
  {
   "cell_type": "code",
   "execution_count": 6,
   "id": "08f151da-7729-40c1-aabc-7f2fe3756636",
   "metadata": {},
   "outputs": [
    {
     "name": "stdout",
     "output_type": "stream",
     "text": [
      "<class 'numpy.ndarray'>\n"
     ]
    }
   ],
   "source": [
    "print(type(k))"
   ]
  },
  {
   "cell_type": "code",
   "execution_count": 11,
   "id": "9de24e6c-a111-420a-9551-d175ed4fc617",
   "metadata": {},
   "outputs": [
    {
     "name": "stdout",
     "output_type": "stream",
     "text": [
      "90\n",
      "0\n"
     ]
    }
   ],
   "source": [
    "# if no arrays is mentioned it is 0 dimension\n",
    "\n",
    "import numpy as sr\n",
    "a = sr.array(90)\n",
    "print(a)\n",
    "print(a.ndim)"
   ]
  },
  {
   "cell_type": "code",
   "execution_count": 24,
   "id": "88e7b080-4a6c-4659-846e-dbef67ca7f49",
   "metadata": {},
   "outputs": [
    {
     "name": "stdout",
     "output_type": "stream",
     "text": [
      "[1 2 3 4 5]\n",
      "1\n"
     ]
    }
   ],
   "source": [
    "import numpy as sr\n",
    "a = sr.array([1,2,3,4,5])\n",
    "print(a)\n",
    "print(a.ndim)"
   ]
  },
  {
   "cell_type": "code",
   "execution_count": 15,
   "id": "89d7a414-645b-492d-9e18-7652e91e3b22",
   "metadata": {},
   "outputs": [
    {
     "name": "stdout",
     "output_type": "stream",
     "text": [
      "[[10 20]\n",
      " [30 40]]\n",
      "2\n"
     ]
    }
   ],
   "source": [
    "import numpy as sr\n",
    "a = sr.array([[10,20],[30,40]])\n",
    "print(a)\n",
    "print(a.ndim)"
   ]
  },
  {
   "cell_type": "code",
   "execution_count": 16,
   "id": "93d34f1c-01df-4331-bd85-a393da745979",
   "metadata": {},
   "outputs": [
    {
     "name": "stdout",
     "output_type": "stream",
     "text": [
      "[[[10 20]\n",
      "  [30 40]]\n",
      "\n",
      " [[40 50]\n",
      "  [60 70]]]\n",
      "3\n"
     ]
    }
   ],
   "source": [
    "import numpy as sr\n",
    "a = sr.array([[[10,20],[30,40]],[[40,50],[60,70]]])\n",
    "print(a)\n",
    "print(a.ndim)"
   ]
  },
  {
   "cell_type": "code",
   "execution_count": 25,
   "id": "603af179-5e23-4016-a27b-df291b99ede0",
   "metadata": {
    "scrolled": true
   },
   "outputs": [
    {
     "name": "stdout",
     "output_type": "stream",
     "text": [
      "[[[10 20]\n",
      "  [30 40]]\n",
      "\n",
      " [[40 50]\n",
      "  [60 70]]]\n",
      "3\n"
     ]
    }
   ],
   "source": [
    "import numpy as sr\n",
    "a = sr.array([[[10,20],[30,40]],[[40,50],[60,70]]])\n",
    "print(a)\n",
    "print(a.ndim)"
   ]
  },
  {
   "cell_type": "code",
   "execution_count": 19,
   "id": "39ba2a7f-43a7-47fb-8be2-2accb4fe242a",
   "metadata": {
    "jupyter": {
     "source_hidden": true
    }
   },
   "outputs": [
    {
     "data": {
      "text/plain": [
       "array([[ 50,  70],\n",
       "       [ 90, 110]])"
      ]
     },
     "execution_count": 19,
     "metadata": {},
     "output_type": "execute_result"
    }
   ],
   "source": [
    "import numpy as sr\n",
    "a = sr.array([[10,20],[30,40]])\n",
    "b = sr.array([[40,50],[60,70]])\n",
    "\n",
    "add=a+b\n",
    "add\n"
   ]
  },
  {
   "cell_type": "code",
   "execution_count": null,
   "id": "060cb32a-e349-44d1-bbe6-a9a2f5d47953",
   "metadata": {},
   "outputs": [],
   "source": []
  }
 ],
 "metadata": {
  "kernelspec": {
   "display_name": "Python 3 (ipykernel)",
   "language": "python",
   "name": "python3"
  },
  "language_info": {
   "codemirror_mode": {
    "name": "ipython",
    "version": 3
   },
   "file_extension": ".py",
   "mimetype": "text/x-python",
   "name": "python",
   "nbconvert_exporter": "python",
   "pygments_lexer": "ipython3",
   "version": "3.13.5"
  }
 },
 "nbformat": 4,
 "nbformat_minor": 5
}
