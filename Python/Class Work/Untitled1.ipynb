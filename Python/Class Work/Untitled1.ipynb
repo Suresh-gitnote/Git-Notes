{
 "cells": [
  {
   "cell_type": "code",
   "execution_count": 3,
   "id": "80a0885b-c79e-4fd3-a6c6-25636e1a802c",
   "metadata": {},
   "outputs": [
    {
     "name": "stdout",
     "output_type": "stream",
     "text": [
      "<bound method myobject.add of <__main__.myobject object at 0x0000024ED46E1400>>\n"
     ]
    }
   ],
   "source": [
    "class myobject:\n",
    "    def add(self):\n",
    "        a=4\n",
    "        b=6\n",
    "        c=a+b\n",
    "object1=myobject()\n",
    "print(object1.add)\n"
   ]
  },
  {
   "cell_type": "code",
   "execution_count": null,
   "id": "80f688f5-7a8a-4a04-a38b-426a8af2fbfa",
   "metadata": {},
   "outputs": [],
   "source": []
  }
 ],
 "metadata": {
  "kernelspec": {
   "display_name": "Python 3 (ipykernel)",
   "language": "python",
   "name": "python3"
  },
  "language_info": {
   "codemirror_mode": {
    "name": "ipython",
    "version": 3
   },
   "file_extension": ".py",
   "mimetype": "text/x-python",
   "name": "python",
   "nbconvert_exporter": "python",
   "pygments_lexer": "ipython3",
   "version": "3.13.5"
  }
 },
 "nbformat": 4,
 "nbformat_minor": 5
}
