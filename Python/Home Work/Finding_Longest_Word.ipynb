{
 "cells": [
  {
   "cell_type": "code",
   "execution_count": null,
   "id": "6d305e60-43bb-4f3e-8ffc-e0a9f90984e9",
   "metadata": {},
   "outputs": [],
   "source": [
    "k=input(\"Enter a sentence : \")\n",
    "a = \" \"\n",
    "b = \" \"\n",
    "for i in k + \" \":\n",
    "    if i != \" \":\n",
    "        a = a + i\n",
    "    else:\n",
    "        if len(a) > len(b):\n",
    "            b = a\n",
    "        a =\"\"\n",
    "print(\"Longest word in the given sentence is >>>>> \", b)        "
   ]
  },
  {
   "cell_type": "code",
   "execution_count": null,
   "id": "a868f5b7-1071-4384-961d-aa71271f23ba",
   "metadata": {},
   "outputs": [],
   "source": []
  }
 ],
 "metadata": {
  "kernelspec": {
   "display_name": "Python 3 (ipykernel)",
   "language": "python",
   "name": "python3"
  },
  "language_info": {
   "codemirror_mode": {
    "name": "ipython",
    "version": 3
   },
   "file_extension": ".py",
   "mimetype": "text/x-python",
   "name": "python",
   "nbconvert_exporter": "python",
   "pygments_lexer": "ipython3",
   "version": "3.13.5"
  }
 },
 "nbformat": 4,
 "nbformat_minor": 5
}
