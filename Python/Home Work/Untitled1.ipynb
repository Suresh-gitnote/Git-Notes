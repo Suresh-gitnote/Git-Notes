{
 "cells": [
  {
   "cell_type": "code",
   "execution_count": 13,
   "id": "4750907e-8fb3-40e3-9724-7de1fdcc55ce",
   "metadata": {},
   "outputs": [
    {
     "name": "stdin",
     "output_type": "stream",
     "text": [
      "Enter a sentence: checking for the longest word in the sentence\n"
     ]
    },
    {
     "name": "stdout",
     "output_type": "stream",
     "text": [
      "Long Word in the given sentence is>>>>  checking\n"
     ]
    }
   ],
   "source": [
    "k=input(\"Enter a sentence:\")\n",
    "a = \" \"\n",
    "b = \" \"\n",
    "for i in k + \" \":\n",
    "    if i != \" \":\n",
    "        a = a + i\n",
    "    else:\n",
    "        if len(a) > len(b):\n",
    "            b = a\n",
    "        a = \"\"\n",
    "print(\"Long Word in the given sentence is >>>>\", b)"
   ]
  },
  {
   "cell_type": "code",
   "execution_count": null,
   "id": "cbb84b6b-fd0a-4d80-9184-b5b4fa7a8f12",
   "metadata": {},
   "outputs": [],
   "source": []
  }
 ],
 "metadata": {
  "kernelspec": {
   "display_name": "Python 3 (ipykernel)",
   "language": "python",
   "name": "python3"
  },
  "language_info": {
   "codemirror_mode": {
    "name": "ipython",
    "version": 3
   },
   "file_extension": ".py",
   "mimetype": "text/x-python",
   "name": "python",
   "nbconvert_exporter": "python",
   "pygments_lexer": "ipython3",
   "version": "3.13.5"
  }
 },
 "nbformat": 4,
 "nbformat_minor": 5
}
