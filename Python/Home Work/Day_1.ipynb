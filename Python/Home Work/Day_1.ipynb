{
 "cells": [
  {
   "cell_type": "code",
   "execution_count": 32,
   "id": "2bce2726-df45-4193-9bd2-2f9425219ced",
   "metadata": {},
   "outputs": [
    {
     "name": "stdout",
     "output_type": "stream",
     "text": [
      "5 20 Hello\n"
     ]
    }
   ],
   "source": [
    "s=5\n",
    "S=20\n",
    "Hi='Hello'\n",
    "print(s,S,Hi)"
   ]
  },
  {
   "cell_type": "code",
   "execution_count": 33,
   "id": "894a0175-3212-48ca-a2eb-fd12dc85b024",
   "metadata": {},
   "outputs": [
    {
     "name": "stdout",
     "output_type": "stream",
     "text": [
      "Self Test in exceution\n"
     ]
    }
   ],
   "source": [
    "print('Self Test in exceution')"
   ]
  },
  {
   "cell_type": "code",
   "execution_count": null,
   "id": "b7282aa2-5953-4297-97c8-f09f78499ddb",
   "metadata": {},
   "outputs": [],
   "source": []
  }
 ],
 "metadata": {
  "kernelspec": {
   "display_name": "Python [conda env:base] *",
   "language": "python",
   "name": "conda-base-py"
  },
  "language_info": {
   "codemirror_mode": {
    "name": "ipython",
    "version": 3
   },
   "file_extension": ".py",
   "mimetype": "text/x-python",
   "name": "python",
   "nbconvert_exporter": "python",
   "pygments_lexer": "ipython3",
   "version": "3.13.5"
  }
 },
 "nbformat": 4,
 "nbformat_minor": 5
}
