{
 "cells": [
  {
   "cell_type": "code",
   "execution_count": 1,
   "id": "6c111bf5-3b60-43a1-9900-fc0001d5e106",
   "metadata": {},
   "outputs": [
    {
     "data": {
      "text/plain": [
       "8.9"
      ]
     },
     "execution_count": 1,
     "metadata": {},
     "output_type": "execute_result"
    }
   ],
   "source": [
    "#Variable are the words are characters before the \"=\" symbol which is on the left side\n",
    "#Values are the words are characters after the \"=\" symbol which is on the right side\n",
    "\n",
    "# Static Variable ex: K = 5 here K is the Static variable\n",
    "# Dynamic/Multiple Variable K=L=M=\"Red\" here K,L,M all three are Multiple Variable\n",
    "# Static Values ex: K = 5 here 5 is the Static value\n",
    "# Dynamic/Multiple Values K,L,O='Red','Line','On' here the words \"Red\", \"Line\", \"On\" are the three multiple values\n",
    "\n",
    "# Data Types are or 2 types Premitive and Non-Premitive\n",
    "# Float, String, Integer and Boolean are Premitive\n",
    "# Complex is Non-Premitive\n",
    "\n",
    "# Changing of the data type from one form to another is know as casting\n",
    "# ex int to string, string to int, int to complex and so on...\n"
   ]
  },
  {
   "cell_type": "code",
   "execution_count": 2,
   "id": "550492fd-4f95-49b2-933a-64138a35e33c",
   "metadata": {},
   "outputs": [
    {
     "data": {
      "text/plain": [
       "8.9"
      ]
     },
     "execution_count": 2,
     "metadata": {},
     "output_type": "execute_result"
    }
   ],
   "source": [
    "# 1\n",
    "K1 = 8.9\n",
    "K1"
   ]
  },
  {
   "cell_type": "code",
   "execution_count": 3,
   "id": "cc2c4d5d-786d-4edc-a72f-a4bb6001311a",
   "metadata": {},
   "outputs": [
    {
     "data": {
      "text/plain": [
       "8"
      ]
     },
     "execution_count": 3,
     "metadata": {},
     "output_type": "execute_result"
    }
   ],
   "source": [
    "# 1.1\n",
    "\n",
    "K1 = 8.9\n",
    "int(K1)"
   ]
  },
  {
   "cell_type": "code",
   "execution_count": 4,
   "id": "c19689b4-dc40-4fc3-ad59-6e0d66b77b13",
   "metadata": {},
   "outputs": [
    {
     "data": {
      "text/plain": [
       "'8.9'"
      ]
     },
     "execution_count": 4,
     "metadata": {},
     "output_type": "execute_result"
    }
   ],
   "source": [
    "# 1.2\n",
    "\n",
    "K1 = 8.9\n",
    "str(K1)"
   ]
  },
  {
   "cell_type": "code",
   "execution_count": 5,
   "id": "9d51fd45-66d8-42fa-9042-8be8076b7b84",
   "metadata": {},
   "outputs": [
    {
     "data": {
      "text/plain": [
       "(8.9+0j)"
      ]
     },
     "execution_count": 5,
     "metadata": {},
     "output_type": "execute_result"
    }
   ],
   "source": [
    "# 1.3\n",
    "\n",
    "K1 = 8.9\n",
    "complex(K1)"
   ]
  },
  {
   "cell_type": "code",
   "execution_count": 6,
   "id": "432e69d7-1a40-4cb4-a6ac-262919a97510",
   "metadata": {},
   "outputs": [
    {
     "data": {
      "text/plain": [
       "'7'"
      ]
     },
     "execution_count": 6,
     "metadata": {},
     "output_type": "execute_result"
    }
   ],
   "source": [
    "# 2\n",
    "\n",
    "K2 = \"7\"\n",
    "K2"
   ]
  },
  {
   "cell_type": "code",
   "execution_count": 7,
   "id": "0d91e74c-75a0-4268-ae29-eca116eb899f",
   "metadata": {},
   "outputs": [
    {
     "data": {
      "text/plain": [
       "7"
      ]
     },
     "execution_count": 7,
     "metadata": {},
     "output_type": "execute_result"
    }
   ],
   "source": [
    "# 2.1\n",
    "\n",
    "K2 =\"7\"\n",
    "int(K2)"
   ]
  },
  {
   "cell_type": "code",
   "execution_count": 8,
   "id": "a40aae11-2bab-4d1d-8def-30a3513129a0",
   "metadata": {},
   "outputs": [
    {
     "data": {
      "text/plain": [
       "7.0"
      ]
     },
     "execution_count": 8,
     "metadata": {},
     "output_type": "execute_result"
    }
   ],
   "source": [
    "# 2.2\n",
    "\n",
    "K2 =\"7\"\n",
    "float(K2)"
   ]
  },
  {
   "cell_type": "code",
   "execution_count": 9,
   "id": "96b2cd6a-469d-40c6-80cb-9345ee3eb7ac",
   "metadata": {},
   "outputs": [
    {
     "data": {
      "text/plain": [
       "(7+0j)"
      ]
     },
     "execution_count": 9,
     "metadata": {},
     "output_type": "execute_result"
    }
   ],
   "source": [
    "# 2.3\n",
    "\n",
    "K2 =\"7\"\n",
    "complex(K2)"
   ]
  },
  {
   "cell_type": "code",
   "execution_count": 10,
   "id": "3f478309-43dc-4885-a676-1ff1f8584dc8",
   "metadata": {},
   "outputs": [
    {
     "data": {
      "text/plain": [
       "(1+3j)"
      ]
     },
     "execution_count": 10,
     "metadata": {},
     "output_type": "execute_result"
    }
   ],
   "source": [
    "# 3\n",
    "\n",
    "K3 = 1+3j\n",
    "K3"
   ]
  },
  {
   "cell_type": "code",
   "execution_count": 11,
   "id": "7bc316d7-af92-49c4-abd3-39fb6bcadf83",
   "metadata": {},
   "outputs": [
    {
     "ename": "TypeError",
     "evalue": "int() argument must be a string, a bytes-like object or a real number, not 'complex'",
     "output_type": "error",
     "traceback": [
      "\u001b[1;31m---------------------------------------------------------------------------\u001b[0m",
      "\u001b[1;31mTypeError\u001b[0m                                 Traceback (most recent call last)",
      "Cell \u001b[1;32mIn[11], line 4\u001b[0m\n\u001b[0;32m      1\u001b[0m \u001b[38;5;66;03m# 3.1\u001b[39;00m\n\u001b[0;32m      3\u001b[0m K3 \u001b[38;5;241m=\u001b[39m \u001b[38;5;241m1\u001b[39m\u001b[38;5;241m+\u001b[39m\u001b[38;5;241m3\u001b[39mj\n\u001b[1;32m----> 4\u001b[0m \u001b[38;5;28mint\u001b[39m(K3)\n",
      "\u001b[1;31mTypeError\u001b[0m: int() argument must be a string, a bytes-like object or a real number, not 'complex'"
     ]
    }
   ],
   "source": [
    "# 3.1\n",
    "\n",
    "K3 = 1+3j\n",
    "int(K3)"
   ]
  },
  {
   "cell_type": "code",
   "execution_count": 12,
   "id": "b38cd0e2-61e3-4df7-b351-70fed8fa76b7",
   "metadata": {},
   "outputs": [
    {
     "ename": "TypeError",
     "evalue": "float() argument must be a string or a real number, not 'complex'",
     "output_type": "error",
     "traceback": [
      "\u001b[1;31m---------------------------------------------------------------------------\u001b[0m",
      "\u001b[1;31mTypeError\u001b[0m                                 Traceback (most recent call last)",
      "Cell \u001b[1;32mIn[12], line 4\u001b[0m\n\u001b[0;32m      1\u001b[0m \u001b[38;5;66;03m# 3.2\u001b[39;00m\n\u001b[0;32m      3\u001b[0m K3 \u001b[38;5;241m=\u001b[39m \u001b[38;5;241m1\u001b[39m\u001b[38;5;241m+\u001b[39m\u001b[38;5;241m3\u001b[39mj\n\u001b[1;32m----> 4\u001b[0m \u001b[38;5;28mfloat\u001b[39m(K3)\n",
      "\u001b[1;31mTypeError\u001b[0m: float() argument must be a string or a real number, not 'complex'"
     ]
    }
   ],
   "source": [
    "# 3.2\n",
    "\n",
    "K3 = 1+3j\n",
    "float(K3)"
   ]
  },
  {
   "cell_type": "code",
   "execution_count": 13,
   "id": "5db210ba-55c3-472e-aeeb-3027f2e3ca4d",
   "metadata": {},
   "outputs": [
    {
     "data": {
      "text/plain": [
       "'(1+3j)'"
      ]
     },
     "execution_count": 13,
     "metadata": {},
     "output_type": "execute_result"
    }
   ],
   "source": [
    "# 3.3\n",
    "\n",
    "K3 = 1+3j\n",
    "str(K3)"
   ]
  },
  {
   "cell_type": "code",
   "execution_count": 14,
   "id": "bac0316d-7950-42a1-bf73-e657ae5af17c",
   "metadata": {},
   "outputs": [
    {
     "data": {
      "text/plain": [
       "'Hi'"
      ]
     },
     "execution_count": 14,
     "metadata": {},
     "output_type": "execute_result"
    }
   ],
   "source": [
    "# 4\n",
    "\n",
    "K4 = 'Hi'\n",
    "K4"
   ]
  },
  {
   "cell_type": "code",
   "execution_count": 15,
   "id": "84c8d613-d566-4d0b-9f7c-a0c86df8192a",
   "metadata": {},
   "outputs": [
    {
     "ename": "ValueError",
     "evalue": "invalid literal for int() with base 10: 'Hi'",
     "output_type": "error",
     "traceback": [
      "\u001b[1;31m---------------------------------------------------------------------------\u001b[0m",
      "\u001b[1;31mValueError\u001b[0m                                Traceback (most recent call last)",
      "Cell \u001b[1;32mIn[15], line 4\u001b[0m\n\u001b[0;32m      1\u001b[0m \u001b[38;5;66;03m# 4.1\u001b[39;00m\n\u001b[0;32m      3\u001b[0m K4 \u001b[38;5;241m=\u001b[39m \u001b[38;5;124m'\u001b[39m\u001b[38;5;124mHi\u001b[39m\u001b[38;5;124m'\u001b[39m\n\u001b[1;32m----> 4\u001b[0m \u001b[38;5;28mint\u001b[39m(K4)\n",
      "\u001b[1;31mValueError\u001b[0m: invalid literal for int() with base 10: 'Hi'"
     ]
    }
   ],
   "source": [
    "# 4.1\n",
    "\n",
    "K4 = 'Hi'\n",
    "int(K4)"
   ]
  },
  {
   "cell_type": "code",
   "execution_count": 16,
   "id": "0f65570a-250b-4236-9eb0-9f3e0efb8f4a",
   "metadata": {},
   "outputs": [
    {
     "ename": "ValueError",
     "evalue": "could not convert string to float: 'Hi'",
     "output_type": "error",
     "traceback": [
      "\u001b[1;31m---------------------------------------------------------------------------\u001b[0m",
      "\u001b[1;31mValueError\u001b[0m                                Traceback (most recent call last)",
      "Cell \u001b[1;32mIn[16], line 4\u001b[0m\n\u001b[0;32m      1\u001b[0m \u001b[38;5;66;03m# 4.2\u001b[39;00m\n\u001b[0;32m      3\u001b[0m K4 \u001b[38;5;241m=\u001b[39m \u001b[38;5;124m'\u001b[39m\u001b[38;5;124mHi\u001b[39m\u001b[38;5;124m'\u001b[39m\n\u001b[1;32m----> 4\u001b[0m \u001b[38;5;28mfloat\u001b[39m(K4)\n",
      "\u001b[1;31mValueError\u001b[0m: could not convert string to float: 'Hi'"
     ]
    }
   ],
   "source": [
    "# 4.2\n",
    "\n",
    "K4 = 'Hi'\n",
    "float(K4)"
   ]
  },
  {
   "cell_type": "code",
   "execution_count": 17,
   "id": "5e41b9fd-5df6-475e-a879-2c129840b7e9",
   "metadata": {},
   "outputs": [
    {
     "ename": "ValueError",
     "evalue": "complex() arg is a malformed string",
     "output_type": "error",
     "traceback": [
      "\u001b[1;31m---------------------------------------------------------------------------\u001b[0m",
      "\u001b[1;31mValueError\u001b[0m                                Traceback (most recent call last)",
      "Cell \u001b[1;32mIn[17], line 4\u001b[0m\n\u001b[0;32m      1\u001b[0m \u001b[38;5;66;03m# 4\u001b[39;00m\n\u001b[0;32m      3\u001b[0m K4 \u001b[38;5;241m=\u001b[39m \u001b[38;5;124m'\u001b[39m\u001b[38;5;124mHi\u001b[39m\u001b[38;5;124m'\u001b[39m\n\u001b[1;32m----> 4\u001b[0m \u001b[38;5;28mcomplex\u001b[39m(K4)\n",
      "\u001b[1;31mValueError\u001b[0m: complex() arg is a malformed string"
     ]
    }
   ],
   "source": [
    "# 4\n",
    "\n",
    "K4 = 'Hi'\n",
    "complex(K4)"
   ]
  },
  {
   "cell_type": "code",
   "execution_count": null,
   "id": "7cfc786a-486d-4724-abeb-403dee6aa8d5",
   "metadata": {},
   "outputs": [],
   "source": []
  }
 ],
 "metadata": {
  "kernelspec": {
   "display_name": "Python [conda env:base] *",
   "language": "python",
   "name": "conda-base-py"
  },
  "language_info": {
   "codemirror_mode": {
    "name": "ipython",
    "version": 3
   },
   "file_extension": ".py",
   "mimetype": "text/x-python",
   "name": "python",
   "nbconvert_exporter": "python",
   "pygments_lexer": "ipython3",
   "version": "3.13.5"
  }
 },
 "nbformat": 4,
 "nbformat_minor": 5
}
