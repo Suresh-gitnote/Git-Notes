{
 "cells": [
  {
   "cell_type": "code",
   "execution_count": 12,
   "id": "593f4a7a-2535-4e3f-ac11-a2621d0f0f1f",
   "metadata": {},
   "outputs": [
    {
     "name": "stdout",
     "output_type": "stream",
     "text": [
      "Answer = 15\n"
     ]
    }
   ],
   "source": [
    "a = 5 \n",
    "A = 10 \n",
    "print('Answer =', a + A)"
   ]
  },
  {
   "cell_type": "code",
   "execution_count": null,
   "id": "9c00db58-3d74-46ad-be87-1d1af60c6bde",
   "metadata": {},
   "outputs": [],
   "source": []
  }
 ],
 "metadata": {
  "kernelspec": {
   "display_name": "Python [conda env:base] *",
   "language": "python",
   "name": "conda-base-py"
  },
  "language_info": {
   "codemirror_mode": {
    "name": "ipython",
    "version": 3
   },
   "file_extension": ".py",
   "mimetype": "text/x-python",
   "name": "python",
   "nbconvert_exporter": "python",
   "pygments_lexer": "ipython3",
   "version": "3.13.5"
  }
 },
 "nbformat": 4,
 "nbformat_minor": 5
}
