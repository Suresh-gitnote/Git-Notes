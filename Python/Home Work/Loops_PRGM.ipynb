{
 "cells": [
  {
   "cell_type": "code",
   "execution_count": 7,
   "id": "c2a02f43-de7f-43e2-a3b1-30a3250304b0",
   "metadata": {},
   "outputs": [
    {
     "name": "stdout",
     "output_type": "stream",
     "text": [
      "Enter a number to print from 1 to the specified number:\n"
     ]
    },
    {
     "name": "stdin",
     "output_type": "stream",
     "text": [
      " 3\n"
     ]
    },
    {
     "name": "stdout",
     "output_type": "stream",
     "text": [
      "1\n",
      "2\n",
      "3\n"
     ]
    }
   ],
   "source": [
    "#1# To get the number from 1 to specified number\n",
    "print(\"Enter a number to print from 1 to the specified number:\") \n",
    "k=int(input())   \n",
    "for i in range(1, k + 1): # using \"for\" loop getting values range from k with the incremental value generating the sequence of number starting from 1\n",
    "    print(i) "
   ]
  },
  {
   "cell_type": "code",
   "execution_count": 8,
   "id": "45c613d5-a203-4092-b777-9da18fd40ff0",
   "metadata": {},
   "outputs": [
    {
     "name": "stdout",
     "output_type": "stream",
     "text": [
      "Enter a number to print till 1:\n"
     ]
    },
    {
     "name": "stdin",
     "output_type": "stream",
     "text": [
      " 4\n"
     ]
    },
    {
     "name": "stdout",
     "output_type": "stream",
     "text": [
      "4\n",
      "3\n",
      "2\n",
      "1\n"
     ]
    }
   ],
   "source": [
    "#2# To get the number from the specified number to 1 \"Reverse\"\n",
    "print(\"Enter a number to print till 1:\")  \n",
    "k=int(input()) \n",
    "while k >= 1: # using \"while\" loop getting the value generating the sequence of number starting from the specified value to 1\n",
    "    print(k) \n",
    "    k = k - 1 # mentioned to print from the value mentioned in reverse"
   ]
  },
  {
   "cell_type": "code",
   "execution_count": 9,
   "id": "f2378406-2921-4718-9e47-3f70a6842daf",
   "metadata": {},
   "outputs": [
    {
     "name": "stdin",
     "output_type": "stream",
     "text": [
      "Enter Word:  Python\n"
     ]
    },
    {
     "name": "stdout",
     "output_type": "stream",
     "text": [
      "No. of characters = 6\n"
     ]
    }
   ],
   "source": [
    "#3# To get the no. of characters used in a word\n",
    "k=input(\"Enter Word: \")   \n",
    "b=len(k)   \n",
    "k = 0   # Resetting the counter, now the actual word in k is rest to 0\n",
    "a = 0   # Here this variable keeps stores the count of the initial word \n",
    "while a < b:  # Using \"while\" loop count until the first stored word value is lesser than b\n",
    "    k = k + 1  # adds the counter number by 1 until the end \n",
    "    a = a + 1  # position moves the indexed value by 1\n",
    "print(\"No. of characters =\", k)  "
   ]
  },
  {
   "cell_type": "code",
   "execution_count": 10,
   "id": "5a3888ac-68fd-49ac-8b8f-1887f02a3b3c",
   "metadata": {},
   "outputs": [
    {
     "name": "stdin",
     "output_type": "stream",
     "text": [
      "Enter the value of how many names to be stored:  5\n",
      " Sam\n",
      " Ram\n",
      " Raj\n",
      " Tej\n",
      " Lal\n"
     ]
    },
    {
     "name": "stdout",
     "output_type": "stream",
     "text": [
      "List of Names stored: ['Sam', 'Ram', 'Raj', 'Tej', 'Lal']\n"
     ]
    }
   ],
   "source": [
    "#4# No of name to be added in a list by getting the user input for the count and names\n",
    "k=int(input(\"Enter the value of how many names to be stored: \"))  \n",
    "list = []    \n",
    "for i in range(k): # Using \"for\" loop in values from k or specifying the count of the variable\n",
    "    name=input() \n",
    "    list = list + [name]   # adding to the existing list\n",
    "print(\"List of Names stored:\", list) "
   ]
  },
  {
   "cell_type": "code",
   "execution_count": 11,
   "id": "669aa18d-f72c-4f04-89a8-41460be11ecc",
   "metadata": {},
   "outputs": [
    {
     "name": "stdout",
     "output_type": "stream",
     "text": [
      "Given list: [133, 3, 133, 92, 20, 1, 20, 1]\n",
      "Duplicates removed: [133, 3, 92, 20, 1]\n"
     ]
    }
   ],
   "source": [
    "#5# Removing Duplicates\n",
    "k = [133,3,133,92,20,1,20,1] \n",
    "print(\"Given list:\", k) \n",
    "m = []  # Creating a new variable list to store the values from variable k which is not repeating\n",
    "for i in k: # Using \"for\" loop values from k\n",
    "    if i not in m:   # Checking if i value is present or not in variable m\n",
    "        m = m + [i]  # Adding the value of i in m to get the new list\n",
    "print(\"Duplicates removed:\", m) "
   ]
  },
  {
   "cell_type": "code",
   "execution_count": null,
   "id": "f89d24a4-9afa-45a7-ac2c-3d91a9964ce4",
   "metadata": {},
   "outputs": [],
   "source": []
  }
 ],
 "metadata": {
  "kernelspec": {
   "display_name": "Python 3 (ipykernel)",
   "language": "python",
   "name": "python3"
  },
  "language_info": {
   "codemirror_mode": {
    "name": "ipython",
    "version": 3
   },
   "file_extension": ".py",
   "mimetype": "text/x-python",
   "name": "python",
   "nbconvert_exporter": "python",
   "pygments_lexer": "ipython3",
   "version": "3.13.5"
  }
 },
 "nbformat": 4,
 "nbformat_minor": 5
}
