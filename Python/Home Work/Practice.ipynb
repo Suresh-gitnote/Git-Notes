{
 "cells": [
  {
   "cell_type": "code",
   "execution_count": 1,
   "id": "f2e0fed5-0605-450c-8e86-537bbd1a4ead",
   "metadata": {},
   "outputs": [
    {
     "name": "stdout",
     "output_type": "stream",
     "text": [
      "Common elements: [2, 4, 8]\n"
     ]
    }
   ],
   "source": [
    "L1 = [2, 4, 8, 19]\n",
    "L2 = [4, 6, 8, 2, 1]\n",
    "\n",
    "common = []\n",
    "for i in L1:\n",
    "    for j in L2:\n",
    "        if i == j:\n",
    "            already_present = False\n",
    "            for k in common:\n",
    "                if k == i:\n",
    "                    already_present = True\n",
    "                    break\n",
    "            if not already_present:\n",
    "                common.append(i)\n",
    "\n",
    "print(\"Common elements:\", common)\n"
   ]
  },
  {
   "cell_type": "code",
   "execution_count": 123,
   "id": "b2e943d9-4332-4772-b1bf-99ee3aa6aef6",
   "metadata": {},
   "outputs": [
    {
     "name": "stdout",
     "output_type": "stream",
     "text": [
      "Common elements: [2, 4, 8]\n"
     ]
    }
   ],
   "source": [
    "L1 = [2, 4, 8, 19]\n",
    "L2 = [4, 6, 8, 2, 1]\n",
    "\n",
    "k = []\n",
    "for i in L1:\n",
    "    for j in L2:\n",
    "        if i == j:\n",
    "            if i not in k:   \n",
    "                k.append(i)\n",
    "\n",
    "print(\"Common elements:\", k)"
   ]
  },
  {
   "cell_type": "code",
   "execution_count": 122,
   "id": "c25fcab2-8c8b-4331-8113-122c691ba667",
   "metadata": {},
   "outputs": [
    {
     "name": "stdin",
     "output_type": "stream",
     "text": [
      "Enter numbers for List 1 (space separated):  2 5 23 342 2 4 7\n",
      "Enter numbers for List 2 (space separated):  2 3 4 23 43534 56\n"
     ]
    },
    {
     "name": "stdout",
     "output_type": "stream",
     "text": [
      "Common elements: [2, 23, 4]\n"
     ]
    }
   ],
   "source": [
    "L1 = list(map(int, input(\"Enter numbers for List 1 (space separated): \").split()))\n",
    "L2 = list(map(int, input(\"Enter numbers for List 2 (space separated): \").split()))\n",
    "\n",
    "common = []\n",
    "for i in L1:\n",
    "    for j in L2:\n",
    "        if i == j:\n",
    "            already_present = False\n",
    "            for k in common:\n",
    "                if k == i:\n",
    "                    already_present = True\n",
    "                    break\n",
    "            if not already_present:\n",
    "                common.append(i)\n",
    "\n",
    "print(\"Common elements:\", common)"
   ]
  },
  {
   "cell_type": "code",
   "execution_count": 9,
   "id": "13461ccd-b59e-4eb8-8e9f-9f9ffb768fea",
   "metadata": {},
   "outputs": [
    {
     "name": "stdin",
     "output_type": "stream",
     "text": [
      "Your Number 100\n"
     ]
    },
    {
     "name": "stdout",
     "output_type": "stream",
     "text": [
      "Binary: 1100100\n"
     ]
    }
   ],
   "source": [
    "a = int(input(\"Your Number\"))\n",
    "binary = \"\"\n",
    "\n",
    "for i in range(a):     \n",
    "    b = a % 2\n",
    "    binary = str(b) + binary\n",
    "    a = a // 2\n",
    "    if a == 0:          \n",
    "        break\n",
    "\n",
    "print(\"Binary:\", binary)"
   ]
  },
  {
   "cell_type": "code",
   "execution_count": null,
   "id": "4c9cd5e7-1e0b-42d1-99bd-f5ea831f6619",
   "metadata": {},
   "outputs": [],
   "source": []
  },
  {
   "cell_type": "code",
   "execution_count": 10,
   "id": "19c31a2d-5134-475e-9300-60adf9f472b2",
   "metadata": {},
   "outputs": [
    {
     "name": "stdout",
     "output_type": "stream",
     "text": [
      "not armstrong number\n"
     ]
    }
   ],
   "source": [
    "a = 153\n",
    "sum = 0\n",
    "\n",
    "while a > 0:\n",
    "    d = a % 10\n",
    "    p = 1\n",
    "    for i in range(3):     \n",
    "        p = p * d\n",
    "    sum = sum + p\n",
    "    a = a // 10\n",
    "\n",
    "if sum == a:\n",
    "    print(\"yes armstrong number\")\n",
    "else:\n",
    "    print(\"not armstrong number\")"
   ]
  },
  {
   "cell_type": "code",
   "execution_count": 121,
   "id": "bbc67232-e103-474e-b99a-1ead0eca6c0f",
   "metadata": {},
   "outputs": [
    {
     "name": "stdin",
     "output_type": "stream",
     "text": [
      "Enter Number: 122\n"
     ]
    },
    {
     "name": "stdout",
     "output_type": "stream",
     "text": [
      "1³ + 2³ + 2³ = 1 + 8 + 8 = 17\n",
      "not armstrong number\n"
     ]
    }
   ],
   "source": [
    "a = int(input(\"Enter Number:\"))\n",
    "s = str(a)          \n",
    "exp = len(s)          \n",
    "total = 0\n",
    "m1, m2 = \"\", \"\"\n",
    "\n",
    "for ch in s:\n",
    "    d = int(ch)\n",
    "    p = 1\n",
    "    for i in range(exp):   # d^exp\n",
    "        p = p * d\n",
    "    total += p\n",
    "    m1 += ch + \"³ + \"\n",
    "    m2 += str(p) + \" + \"\n",
    "\n",
    "m1 = m1[:-3]   # remove last \" + \"\n",
    "m2 = m2[:-3]\n",
    "\n",
    "print(m1, \"=\", m2, \"=\", total)\n",
    "\n",
    "if total == a:\n",
    "    print(\"yes armstrong number\")\n",
    "else:\n",
    "    print(\"not armstrong number\")"
   ]
  },
  {
   "cell_type": "code",
   "execution_count": 26,
   "id": "43bee3ac-8306-42f6-ac99-9978638c90c5",
   "metadata": {},
   "outputs": [
    {
     "name": "stdin",
     "output_type": "stream",
     "text": [
      "Enter Your Details: ASDSR2341G\n"
     ]
    },
    {
     "name": "stdout",
     "output_type": "stream",
     "text": [
      "Valid PAN\n"
     ]
    }
   ],
   "source": [
    "k = str(input(\"Enter Your Details:\"))\n",
    "\n",
    "if len(k)==10:\n",
    "    a = 1\n",
    "    for i in range(5):\n",
    "        if not (65 <= ord(k[i]) <= 90): a=0\n",
    "    for i in range(5,9):\n",
    "        if not (48 <= ord(k[i]) <= 57): a=0\n",
    "    if not (65 <= ord(k[9]) <= 90): a=0\n",
    "    if a: print(\"Valid PAN\")\n",
    "    else: print(\"Invalid Entry\")\n",
    "else:\n",
    "    print(\"Invalid Entry\")"
   ]
  },
  {
   "cell_type": "code",
   "execution_count": 31,
   "id": "1625c920-6295-4a3b-aff7-375fa4500f3e",
   "metadata": {},
   "outputs": [
    {
     "name": "stdin",
     "output_type": "stream",
     "text": [
      "Enter Your Details: ADBCE1234E\n"
     ]
    },
    {
     "name": "stdout",
     "output_type": "stream",
     "text": [
      "Valid PAN\n"
     ]
    }
   ],
   "source": [
    "k = str(input(\"Enter Your Details:\"))\n",
    "\n",
    "if len(k)==10:\n",
    "    for i in range(5):\n",
    "        if not ('A' <= k[i] <= 'Z'): \n",
    "            print(\"Invalid Entry\"); \n",
    "            break\n",
    "    else:\n",
    "        for i in range(5,9):\n",
    "            if not ('0' <= k[i] <= '9'): \n",
    "                print(\"Invalid Entry\"); \n",
    "                break\n",
    "        else:\n",
    "            if 'A' <= k[9] <= 'Z': \n",
    "                print(\"Valid PAN\")\n",
    "            else: \n",
    "                print(\"Invalid Entry\")\n",
    "else:\n",
    "    print(\"Invalid Entry\")"
   ]
  },
  {
   "cell_type": "code",
   "execution_count": 40,
   "id": "86adb651-9a91-4ec7-8932-c7c30b9c8435",
   "metadata": {},
   "outputs": [
    {
     "name": "stdout",
     "output_type": "stream",
     "text": [
      "[1, 2, 3, 4, 5, 6, 7]\n"
     ]
    }
   ],
   "source": [
    "k = [[1,2],[3,4],[5],[6,7]]\n",
    "a = []\n",
    "\n",
    "for i in k:\n",
    "    for j in i:\n",
    "        a.append(j)\n",
    "\n",
    "print(a)"
   ]
  },
  {
   "cell_type": "code",
   "execution_count": 55,
   "id": "9d23bffe-c881-40b5-a57f-181ae3ab4626",
   "metadata": {},
   "outputs": [
    {
     "name": "stdout",
     "output_type": "stream",
     "text": [
      "[121, 88, 444]\n"
     ]
    }
   ],
   "source": [
    "k = [121, 133, 123, 88, 97, 444,12]\n",
    "a = []\n",
    "\n",
    "for i in k:\n",
    "    s = str(i)\n",
    "    m = \"\"\n",
    "    for j in s:\n",
    "        m = j + m\n",
    "    if m == s:\n",
    "        a.append(i)\n",
    "\n",
    "print(a)"
   ]
  },
  {
   "cell_type": "code",
   "execution_count": 90,
   "id": "d0ecff74-aca1-47b9-b05e-21159d7fde77",
   "metadata": {},
   "outputs": [
    {
     "name": "stdin",
     "output_type": "stream",
     "text": [
      "Enter a sentence: all is not short \n"
     ]
    },
    {
     "name": "stdout",
     "output_type": "stream",
     "text": [
      "Longest word: short\n"
     ]
    }
   ],
   "source": [
    "k = input(\"Enter a sentence:\")\n",
    "currentword = \"\"  \n",
    "longword = \"\"  \n",
    "\n",
    "for i in k + \" \":  \n",
    "    if i != \" \":\n",
    "        currentword = currentword + i\n",
    "    else:\n",
    "        if len(currentword) > len(longword):\n",
    "            longword = currentword\n",
    "        currentword = \"\"  \n",
    "\n",
    "print(\"Longest word:\", longword)"
   ]
  },
  {
   "cell_type": "code",
   "execution_count": 91,
   "id": "ea15ccc5-66c0-4a98-81d8-67272fe1a84a",
   "metadata": {},
   "outputs": [
    {
     "name": "stdin",
     "output_type": "stream",
     "text": [
      "Enter password:  Password\n"
     ]
    },
    {
     "name": "stdout",
     "output_type": "stream",
     "text": [
      "Masked password: P******d\n"
     ]
    }
   ],
   "source": [
    "password = input(\"Enter password: \")\n",
    "m = \"\"\n",
    "\n",
    "for i in range(len(password)):\n",
    "    if i == 0 or i == len(password) - 1:\n",
    "        m = m + password[i]\n",
    "    else:\n",
    "        m = m + \"*\"\n",
    "\n",
    "print(\"Masked password:\", m)"
   ]
  },
  {
   "cell_type": "code",
   "execution_count": 98,
   "id": "565c2d15-d642-4f9b-bcba-65320ab9223b",
   "metadata": {},
   "outputs": [
    {
     "name": "stdin",
     "output_type": "stream",
     "text": [
      "Enter password:  count\n"
     ]
    },
    {
     "name": "stdout",
     "output_type": "stream",
     "text": [
      "Masked password: c***t\n"
     ]
    }
   ],
   "source": [
    "k = input(\"Enter password: \")\n",
    "m = \"\"\n",
    "count = 0\n",
    "\n",
    "for i in k:\n",
    "    if count == 0 or count == len(k) - 1:\n",
    "        m = m + i\n",
    "    else:\n",
    "        m = m + \"*\"\n",
    "    count = count + 1\n",
    "\n",
    "print(\"Masked password:\", m)"
   ]
  },
  {
   "cell_type": "code",
   "execution_count": 102,
   "id": "b429ab0f-27d8-405c-8c85-bd1e591e7731",
   "metadata": {},
   "outputs": [
    {
     "name": "stdin",
     "output_type": "stream",
     "text": [
      "Enter name to search:  Suresh\n"
     ]
    },
    {
     "name": "stdout",
     "output_type": "stream",
     "text": [
      "Contact: 9940334455\n"
     ]
    }
   ],
   "source": [
    "contacts = {\"Ravi\": \"9876543210\", \"Anu\": \"9911223344\", \"Suresh\":9940334455}\n",
    "\n",
    "name = input(\"Enter name to search: \")\n",
    "\n",
    "if name in contacts:\n",
    "    print(\"Contact:\", contacts[name])\n",
    "else:\n",
    "    print(\"Contact not found\")"
   ]
  },
  {
   "cell_type": "code",
   "execution_count": 115,
   "id": "b626e3e6-9bc3-438b-97aa-9c93b34cd76f",
   "metadata": {},
   "outputs": [
    {
     "name": "stdout",
     "output_type": "stream",
     "text": [
      "['A', 'E', 'B', 'A', 'C']\n"
     ]
    }
   ],
   "source": [
    "m = [85, 40, 77, 92, 61]\n",
    "k = []\n",
    "\n",
    "for i in m:\n",
    "    if i >= 80:\n",
    "        k.append('A')\n",
    "    elif i >= 70:\n",
    "        k.append('B')\n",
    "    elif i >= 60:\n",
    "        k.append('C')\n",
    "    elif i >= 50:\n",
    "        k.append('D')\n",
    "    elif i >= 40:\n",
    "        k.append('E')\n",
    "    else:\n",
    "        k.append('F')\n",
    "\n",
    "print(k)\n"
   ]
  },
  {
   "cell_type": "code",
   "execution_count": 117,
   "id": "d5b29a53-5584-4867-9b18-9eed8f299011",
   "metadata": {},
   "outputs": [
    {
     "name": "stdin",
     "output_type": "stream",
     "text": [
      " search\n"
     ]
    },
    {
     "name": "stdout",
     "output_type": "stream",
     "text": [
      "hcraes\n"
     ]
    }
   ],
   "source": [
    "k = str(input())\n",
    "a = \"\"\n",
    "\n",
    "for i in k:\n",
    "    a = i + a \n",
    "print(a)"
   ]
  },
  {
   "cell_type": "code",
   "execution_count": 5,
   "id": "2a49f589-b846-4593-ad99-16d7e828bc9c",
   "metadata": {},
   "outputs": [
    {
     "name": "stdin",
     "output_type": "stream",
     "text": [
      "User 1, enter Stone, Paper or Scissor:  \n",
      "User 2, enter Stone, Paper or Scissor:  \n"
     ]
    },
    {
     "name": "stdout",
     "output_type": "stream",
     "text": [
      "It's a draw!\n"
     ]
    }
   ],
   "source": [
    "u1 = input(\"User 1, enter Stone, Paper or Scissor: \")\n",
    "u2 = input(\"User 2, enter Stone, Paper or Scissor: \")\n",
    "\n",
    "# Compare choices\n",
    "if u1 == u2:\n",
    "    print(\"It's a draw!\")\n",
    "elif (u1 == \"Stone\" and u2 == \"Scissor\") or (u1 == \"Paper\" and u2 == \"Stone\") or (u1 == \"Scissor\" and u2 == \"Paper\"):\n",
    "        print(\"User 1 wins!\")\n",
    "else:\n",
    "    print(\"User 2 wins!\")"
   ]
  },
  {
   "cell_type": "code",
   "execution_count": 34,
   "id": "a5f1a5c3-f9a0-4fff-831a-189a0a55e083",
   "metadata": {},
   "outputs": [
    {
     "name": "stdin",
     "output_type": "stream",
     "text": [
      "Your Word: pop\n"
     ]
    },
    {
     "name": "stdout",
     "output_type": "stream",
     "text": [
      "True\n"
     ]
    }
   ],
   "source": [
    "# Palindrom\n",
    "k=input(\"Your Word:\")\n",
    "a=\"\"\n",
    "for i in k:\n",
    "    a=i+a\n",
    "if a==k:\n",
    "   print(True)\n",
    "else:\n",
    "   print(False)"
   ]
  },
  {
   "cell_type": "code",
   "execution_count": 35,
   "id": "971008f1-4d9a-4b43-9b9b-22a54af02d46",
   "metadata": {},
   "outputs": [],
   "source": [
    "#loop 5 question with answer with for and while submit by saturday\n",
    "#video with answer for 34th Sunday"
   ]
  },
  {
   "cell_type": "code",
   "execution_count": null,
   "id": "978d1000-08c2-4bb9-a561-20685f62c3d8",
   "metadata": {},
   "outputs": [],
   "source": []
  }
 ],
 "metadata": {
  "kernelspec": {
   "display_name": "Python 3 (ipykernel)",
   "language": "python",
   "name": "python3"
  },
  "language_info": {
   "codemirror_mode": {
    "name": "ipython",
    "version": 3
   },
   "file_extension": ".py",
   "mimetype": "text/x-python",
   "name": "python",
   "nbconvert_exporter": "python",
   "pygments_lexer": "ipython3",
   "version": "3.13.5"
  }
 },
 "nbformat": 4,
 "nbformat_minor": 5
}
