{
 "cells": [
  {
   "cell_type": "code",
   "execution_count": null,
   "id": "f7168c2f-c248-4245-a0a1-11644faed3fb",
   "metadata": {},
   "outputs": [],
   "source": [
    "# To get the number from 1 to specified number\n",
    "print(\"Enter a number to print from 1 to the specified number:\")  # Print statement\n",
    "k=int(input())   # Getting the user input of any number to print from 1 to the specified number\n",
    "for i in range(1, k + 1): # using \"for\" loop getting values range from k with the incremental value generating the sequence of number starting from 1\n",
    "    print(i)  # Print statement / output "
   ]
  },
  {
   "cell_type": "code",
   "execution_count": null,
   "id": "c6fc0cca-67bc-41fe-a9bc-3e6cf0f82fcd",
   "metadata": {},
   "outputs": [],
   "source": [
    "# To get the number from the specified number to 1 \"Reverse\"\n",
    "print(\"Enter a number to print till 1:\")  # Print statement\n",
    "k=int(input()) # Getting the user input of any number to print till 1 from the specified number\n",
    "while k >= 1: # using \"while\" loop getting the value generating the sequence of number starting from the specified value to 1\n",
    "    print(k) # Print statment / output\n",
    "    k = k - 1 # mentioned to print from the value mentioned in reverse"
   ]
  },
  {
   "cell_type": "code",
   "execution_count": null,
   "id": "5879faa9-e089-4fc6-8124-17cdb47b9e11",
   "metadata": {},
   "outputs": [],
   "source": [
    "# To get the no. of characters used in a word\n",
    "k=input(\"Enter Word: \")   # Getting user input of desired word\n",
    "b=len(k)   # Counting no. of characters in the word\n",
    "k = 0   # Resetting the counter, now the actual word in k is rest to 0\n",
    "a = 0   # Here this variable keeps stores the count of the initial word \n",
    "while a < b:  # Using \"while\" loop count until the first stored word value is lesser than b\n",
    "    k = k + 1  # adds the counter number by 1 until the end \n",
    "    a = a + 1  # position moves the indexed value by 1\n",
    "print(\"No. of characters =\", k)  # Print statement / output "
   ]
  },
  {
   "cell_type": "code",
   "execution_count": null,
   "id": "79c59e37-552a-417a-a9f1-1831d26cc793",
   "metadata": {},
   "outputs": [],
   "source": [
    "# No of name to be added in a list by getting the user input for the count and names\n",
    "k=int(input(\"Enter the value of how many names to be stored: \"))  # Getting number input from the user for how many names to be stored in the list\n",
    "list = []    # Creating empty list to store the names\n",
    "for i in range(k): # Using \"for\" loop in values from k or specifying the count of the variable   \n",
    "    name=input() # Getting the name from the user to add to the list\n",
    "    list = list + [name]   # adding to the existing list\n",
    "print(\"List of Names stored:\", list)  # Print statement / output"
   ]
  },
  {
   "cell_type": "code",
   "execution_count": null,
   "id": "03f0158f-8977-4add-890c-e90cee81d2c8",
   "metadata": {},
   "outputs": [],
   "source": [
    "# Removing Duplicates \n",
    "k = [133,3,133,92,20,1,20,1] # Variable k is the given list of numbers\n",
    "print(\"Given list:\", k) # Print statement to print the variable list\n",
    "m = []  # Creating a new variable list to store the values from variable k which is not repeating\n",
    "for i in k: # Using \"for\" loop values from k\n",
    "    if i not in m:   # Checking if i value is persent or not in variable m\n",
    "        m = m + [i]  # Adding the value of i in m to get the new list\n",
    "print(\"Duplicates removed:\", m)  # Print statement / output"
   ]
  },
  {
   "cell_type": "code",
   "execution_count": null,
   "id": "82d6f7b4-281d-4872-ab24-3453d6aca5ac",
   "metadata": {},
   "outputs": [],
   "source": []
  }
 ],
 "metadata": {
  "kernelspec": {
   "display_name": "Python 3 (ipykernel)",
   "language": "python",
   "name": "python3"
  },
  "language_info": {
   "codemirror_mode": {
    "name": "ipython",
    "version": 3
   },
   "file_extension": ".py",
   "mimetype": "text/x-python",
   "name": "python",
   "nbconvert_exporter": "python",
   "pygments_lexer": "ipython3",
   "version": "3.13.5"
  }
 },
 "nbformat": 4,
 "nbformat_minor": 5
}
