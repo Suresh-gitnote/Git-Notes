{
 "cells": [
  {
   "cell_type": "code",
   "execution_count": 2,
   "id": "99603dcc-0033-4b30-87d7-89e0a1c678c7",
   "metadata": {},
   "outputs": [
    {
     "name": "stdout",
     "output_type": "stream",
     "text": [
      "1\n"
     ]
    }
   ],
   "source": [
    "import numpy as np\n",
    "k = np.array([[1],[2]])\n",
    "print(k[0,0])"
   ]
  },
  {
   "cell_type": "code",
   "execution_count": null,
   "id": "c737436a-f877-4dc3-9594-0d4431687c67",
   "metadata": {},
   "outputs": [],
   "source": [
    "import pandas as pa\n",
    "info={\"Ram\",\"Raj"
   ]
  }
 ],
 "metadata": {
  "kernelspec": {
   "display_name": "Python 3 (ipykernel)",
   "language": "python",
   "name": "python3"
  },
  "language_info": {
   "codemirror_mode": {
    "name": "ipython",
    "version": 3
   },
   "file_extension": ".py",
   "mimetype": "text/x-python",
   "name": "python",
   "nbconvert_exporter": "python",
   "pygments_lexer": "ipython3",
   "version": "3.13.5"
  }
 },
 "nbformat": 4,
 "nbformat_minor": 5
}
