{
 "cells": [
  {
   "cell_type": "code",
   "execution_count": 1,
   "id": "4021f02e-b976-4ed0-9df2-9448db874928",
   "metadata": {},
   "outputs": [
    {
     "name": "stdout",
     "output_type": "stream",
     "text": [
      "python\n",
      "strasse\n"
     ]
    }
   ],
   "source": [
    "## 1. casefold() → Converts the string into lowercase (more aggressive than lower(), handles special characters).\n",
    "# Example 1\n",
    "text = \"PYTHON\"\n",
    "print(text.casefold())   # python\n",
    "\n",
    "# Example 2\n",
    "text = \"Straße\"   # German word\n",
    "print(text.casefold())   # strasse"
   ]
  },
  {
   "cell_type": "code",
   "execution_count": 2,
   "id": "402d79d5-3792-4032-8084-61669fb5aba9",
   "metadata": {},
   "outputs": [
    {
     "name": "stdout",
     "output_type": "stream",
     "text": [
      "6\n",
      "4\n"
     ]
    }
   ],
   "source": [
    "## 2. index() → Returns the index (position) of the first occurrence of a substring. (Error if not found).\n",
    "# Example 1\n",
    "text = \"hello world\"\n",
    "print(text.index(\"world\"))   # 6\n",
    "\n",
    "# Example 2\n",
    "print(text.index(\"o\"))       # 4 (first 'o')"
   ]
  },
  {
   "cell_type": "code",
   "execution_count": 4,
   "id": "61923e75-d741-4bbf-a761-66d9ddbfa730",
   "metadata": {},
   "outputs": [
    {
     "name": "stdout",
     "output_type": "stream",
     "text": [
      "3\n",
      "2\n"
     ]
    }
   ],
   "source": [
    "## 3. count() → Returns how many times a substring appears.\n",
    "# Example 1\n",
    "text = \"banana\"\n",
    "print(text.count(\"a\"))   # 3\n",
    "\n",
    "# Example 2\n",
    "print(text.count(\"na\"))  # 2"
   ]
  },
  {
   "cell_type": "code",
   "execution_count": 6,
   "id": "a95c0a2c-224a-423a-9e09-fc3e2553985f",
   "metadata": {},
   "outputs": [
    {
     "name": "stdout",
     "output_type": "stream",
     "text": [
      "('hello', ' ', 'world')\n",
      "('Python', '-', 'is-awesome')\n"
     ]
    }
   ],
   "source": [
    "## 4. partition() → Splits string into 3 parts: before, match, after (first occurrence).\n",
    "# Example 1\n",
    "text = \"hello world\"\n",
    "print(text.partition(\" \"))  \n",
    "# ('hello', ' ', 'world')\n",
    "\n",
    "# Example 2\n",
    "text = \"Python-is-awesome\"\n",
    "print(text.partition(\"-\"))  \n",
    "# ('Python', '-', 'is-awesome')"
   ]
  },
  {
   "cell_type": "code",
   "execution_count": 18,
   "id": "02da714c-f3cd-4144-a227-78587314fbda",
   "metadata": {},
   "outputs": [
    {
     "name": "stdout",
     "output_type": "stream",
     "text": [
      "I like Python\n",
      "bonona\n"
     ]
    }
   ],
   "source": [
    "## 5. replace() → Replaces occurrences of a substring with another.\n",
    "# Example 1\n",
    "text = \"I like Java\"\n",
    "print(text.replace(\"Java\", \"Python\"))  \n",
    "# I like Python\n",
    "\n",
    "# Example 2\n",
    "text = \"banana\"\n",
    "print(text.replace(\"a\", \"o\", 2))  \n",
    "# bonona (only first 2 'a's replaced)"
   ]
  },
  {
   "cell_type": "code",
   "execution_count": 8,
   "id": "93801635-61cb-46e4-8d88-9e4c81e1d44d",
   "metadata": {},
   "outputs": [
    {
     "name": "stdout",
     "output_type": "stream",
     "text": [
      "hello\n",
      "python\n"
     ]
    }
   ],
   "source": [
    "## 6. lower() → Converts string to lowercase.\n",
    "# Example 1\n",
    "text = \"HELLO\"\n",
    "print(text.lower())   # hello\n",
    "\n",
    "# Example 2\n",
    "text = \"PyThoN\"\n",
    "print(text.lower())   # python"
   ]
  },
  {
   "cell_type": "code",
   "execution_count": 9,
   "id": "8368fa6e-617b-4240-8877-6caa9d2d11de",
   "metadata": {},
   "outputs": [
    {
     "name": "stdout",
     "output_type": "stream",
     "text": [
      "HELLO\n",
      "PYTHON\n"
     ]
    }
   ],
   "source": [
    "## 7. upper() → Converts string to uppercase.\n",
    "# Example 1\n",
    "text = \"hello\"\n",
    "print(text.upper())   # HELLO\n",
    "\n",
    "# Example 2\n",
    "text = \"PyThoN\"\n",
    "print(text.upper())   # PYTHON"
   ]
  },
  {
   "cell_type": "code",
   "execution_count": 10,
   "id": "a726d454-9544-4946-b229-27df7b9c3699",
   "metadata": {},
   "outputs": [
    {
     "name": "stdout",
     "output_type": "stream",
     "text": [
      "Python is fun\n",
      "Hello world\n"
     ]
    }
   ],
   "source": [
    "## 8. capitalize() → Converts first character to uppercase, rest to lowercase.\n",
    "# Example 1\n",
    "text = \"python is fun\"\n",
    "print(text.capitalize())   # Python is fun\n",
    "\n",
    "# Example 2\n",
    "text = \"hELLO WORLD\"\n",
    "print(text.capitalize())   # Hello world"
   ]
  },
  {
   "cell_type": "code",
   "execution_count": 11,
   "id": "fd249045-3845-438e-bb74-defcf51b435b",
   "metadata": {},
   "outputs": [
    {
     "name": "stdout",
     "output_type": "stream",
     "text": [
      "hello\n",
      "python\n"
     ]
    }
   ],
   "source": [
    "## 9. strip() → Removes whitespace (or given characters) from start & end.\n",
    "# Example 1\n",
    "text = \"   hello   \"\n",
    "print(text.strip())   # \"hello\"\n",
    "\n",
    "# Example 2\n",
    "text = \"###python###\"\n",
    "print(text.strip(\"#\"))  # python"
   ]
  },
  {
   "cell_type": "code",
   "execution_count": 12,
   "id": "03de56fe-f596-46f9-9132-7c3f57db00ef",
   "metadata": {},
   "outputs": [
    {
     "name": "stdout",
     "output_type": "stream",
     "text": [
      "True\n",
      "False\n"
     ]
    }
   ],
   "source": [
    "## 10. isdigit() → Returns True if all characters are digits.\n",
    "# Example 1\n",
    "text = \"12345\"\n",
    "print(text.isdigit())   # True\n",
    "\n",
    "# Example 2\n",
    "text = \"123abc\"\n",
    "print(text.isdigit())   # False"
   ]
  },
  {
   "cell_type": "code",
   "execution_count": null,
   "id": "9761529b-dfbd-49b7-b585-e5304c624dbb",
   "metadata": {},
   "outputs": [],
   "source": []
  }
 ],
 "metadata": {
  "kernelspec": {
   "display_name": "Python [conda env:base] *",
   "language": "python",
   "name": "conda-base-py"
  },
  "language_info": {
   "codemirror_mode": {
    "name": "ipython",
    "version": 3
   },
   "file_extension": ".py",
   "mimetype": "text/x-python",
   "name": "python",
   "nbconvert_exporter": "python",
   "pygments_lexer": "ipython3",
   "version": "3.13.5"
  }
 },
 "nbformat": 4,
 "nbformat_minor": 5
}
