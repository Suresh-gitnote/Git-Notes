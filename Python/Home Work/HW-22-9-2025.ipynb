{
 "cells": [
  {
   "cell_type": "code",
   "execution_count": 15,
   "id": "8f37aa08-f15d-482a-bb18-34e03c7deffc",
   "metadata": {},
   "outputs": [
    {
     "name": "stdout",
     "output_type": "stream",
     "text": [
      "0 Dimension\n",
      "[10 20 30 40 50]\n",
      "1 Dimension\n",
      "[[10 20]\n",
      " [30 40]]\n",
      "2 Dimension\n",
      "[[[10 20  8]\n",
      "  [30 40  3]]\n",
      "\n",
      " [[40 50  1]\n",
      "  [60 70  8]]]\n",
      "3 Dimension\n"
     ]
    },
    {
     "data": {
      "text/plain": [
       "(2, 2, 3)"
      ]
     },
     "execution_count": 15,
     "metadata": {},
     "output_type": "execute_result"
    }
   ],
   "source": [
    "#  Numpy Array Dimensions\n",
    "import numpy as sr\n",
    "a = sr.array(90)\n",
    "\n",
    "print(a.ndim,\"Dimension\")\n",
    "a = sr.array([10,20,30,40,50])\n",
    "print(a)\n",
    "\n",
    "print(a.ndim,\"Dimension\")\n",
    "a = sr.array([[10,20],[30,40]])\n",
    "print(a)\n",
    "print(a.ndim,\"Dimension\")\n",
    "a = sr.array([[[10,20,8],[30,40,3]],[[40,50,1],[60,70,8]]])\n",
    "print(a)\n",
    "print(a.ndim,\"Dimension\") \n",
    "\n",
    "a.shape"
   ]
  },
  {
   "cell_type": "code",
   "execution_count": 8,
   "id": "16a3d6a6-3292-4f80-a9a5-88329e6c76ce",
   "metadata": {},
   "outputs": [
    {
     "name": "stdout",
     "output_type": "stream",
     "text": [
      "[10 20 30 40 50]\n",
      "1 Dimension\n"
     ]
    }
   ],
   "source": [
    "a = sr.array([10,20,30,40,50])\n",
    "print(a)\n",
    "print(a.ndim,\"Dimension\")"
   ]
  },
  {
   "cell_type": "code",
   "execution_count": 11,
   "id": "e7f53cf5-e0cf-4ec6-9693-057865016e8a",
   "metadata": {},
   "outputs": [
    {
     "name": "stdout",
     "output_type": "stream",
     "text": [
      "[10 20 30 40 50]\n",
      "1 Dimension\n",
      "[[10 20 30 40 50]]\n",
      "2 Dimension\n",
      "[[10]\n",
      " [20]\n",
      " [30]\n",
      " [40]\n",
      " [50]]\n",
      "2 Dimension\n",
      "[[[10 20 30 40 50]]]\n",
      "3 Dimension\n",
      "[[[10]]\n",
      "\n",
      " [[20]]\n",
      "\n",
      " [[30]]\n",
      "\n",
      " [[40]]\n",
      "\n",
      " [[50]]]\n",
      "3 Dimension\n",
      "[[[10]]\n",
      "\n",
      " [[20]]\n",
      "\n",
      " [[30]]\n",
      "\n",
      " [[40]]\n",
      "\n",
      " [[50]]]\n",
      "3 Dimension\n"
     ]
    }
   ],
   "source": [
    "# 1D to 2D and 3D\n",
    "a = sr.array([10,20,30,40,50])\n",
    "b = a.reshape(1,-1)\n",
    "c = a.reshape(-1,1)\n",
    "d = a.reshape(1,1,-1)\n",
    "e = a.reshape(-1,1,1)\n",
    "f = a.reshape(-2,1,1)\n",
    "\n",
    "print(a)\n",
    "print(a.ndim,\"Dimension\")\n",
    "print(b)\n",
    "print(b.ndim,\"Dimension\")\n",
    "print(c)\n",
    "print(c.ndim,\"Dimension\")\n",
    "print(d)\n",
    "print(d.ndim,\"Dimension\")\n",
    "print(e)\n",
    "print(e.ndim,\"Dimension\")\n",
    "print(f)\n",
    "print(f.ndim,\"Dimension\")"
   ]
  },
  {
   "cell_type": "code",
   "execution_count": 61,
   "id": "f24204b2-035c-46c5-b40f-0eb63f4f425c",
   "metadata": {},
   "outputs": [
    {
     "name": "stdout",
     "output_type": "stream",
     "text": [
      "[[10 20 30 40 50 60]]\n",
      "2 Dimension\n",
      "[[10]\n",
      " [20]\n",
      " [30]\n",
      " [40]\n",
      " [50]\n",
      " [60]]\n",
      "2 Dimension\n",
      "[[[10 20 30 40 50 60]]]\n",
      "3 Dimension\n",
      "[[[10]]\n",
      "\n",
      " [[20]]\n",
      "\n",
      " [[30]]\n",
      "\n",
      " [[40]]\n",
      "\n",
      " [[50]]\n",
      "\n",
      " [[60]]]\n",
      "3 Dimension\n",
      "[10 20 30 40 50 60]\n",
      "1 Dimension\n",
      "[10 20 30 40 50 60]\n",
      "1 Dimension\n"
     ]
    }
   ],
   "source": [
    "# 2D to 3D and 1D\n",
    "a = sr.array([[10,20],[30,40],[50,60]])\n",
    "b = a.reshape(1,-1)\n",
    "# c = a.reshape(-1,1)\n",
    "d = a.reshape(1,1,-1)\n",
    "e = a.reshape(-1,1,1)\n",
    "f = a.reshape(-1)\n",
    "\n",
    "print(a)\n",
    "print(a.ndim,\"Dimension\")\n",
    "print(b)\n",
    "print(b.ndim,\"Dimension\")\n",
    "print(c)\n",
    "print(c.ndim,\"Dimension\")\n",
    "print(d)\n",
    "print(d.ndim,\"Dimension\")\n",
    "print(e)\n",
    "print(e.ndim,\"Dimension\")\n",
    "print(f)\n",
    "print(f.ndim,\"Dimension\")\n",
    "print(g)\n",
    "print(g.ndim,\"Dimension\")\n"
   ]
  },
  {
   "cell_type": "code",
   "execution_count": 67,
   "id": "ca5b5754-0b39-483c-a3f9-42e3d597607a",
   "metadata": {},
   "outputs": [
    {
     "name": "stdout",
     "output_type": "stream",
     "text": [
      "[[[10 20]\n",
      "  [30 40]]\n",
      "\n",
      " [[50 60]\n",
      "  [70 80]]]\n",
      "3 Dimension\n",
      "[[10 20 30 40 50 60 70 80]]\n",
      "2 Dimension\n",
      "[[10]\n",
      " [20]\n",
      " [30]\n",
      " [40]\n",
      " [50]\n",
      " [60]\n",
      " [70]\n",
      " [80]]\n",
      "2 Dimension\n",
      "[[10 20 30 40]\n",
      " [50 60 70 80]]\n",
      "2 Dimension\n",
      "[[10 20]\n",
      " [30 40]\n",
      " [50 60]\n",
      " [70 80]]\n",
      "2 Dimension\n",
      "[[10 20 30 40]\n",
      " [50 60 70 80]]\n",
      "2 Dimension\n",
      "[10 20 30 40 50 60 70 80]\n",
      "1 Dimension\n"
     ]
    }
   ],
   "source": [
    "# 3D to 2D and 1D\n",
    "a = sr.array([[[10,20],[30,40]],[[50,60],[70,80]]])\n",
    "b = a.reshape(1,-1)\n",
    "c = a.reshape(-1,1)\n",
    "d = a.reshape(2,-1)\n",
    "e = a.reshape(-1,2)\n",
    "f = a.reshape(2,-2)\n",
    "g = a.reshape(-1)\n",
    "\n",
    "print(a)\n",
    "print(a.ndim,\"Dimension\")\n",
    "print(b)\n",
    "print(b.ndim,\"Dimension\")\n",
    "print(c)\n",
    "print(c.ndim,\"Dimension\")\n",
    "print(d)\n",
    "print(d.ndim,\"Dimension\")\n",
    "print(e)\n",
    "print(e.ndim,\"Dimension\")\n",
    "print(f)\n",
    "print(f.ndim,\"Dimension\")\n",
    "print(g)\n",
    "print(g.ndim,\"Dimension\")"
   ]
  },
  {
   "cell_type": "code",
   "execution_count": null,
   "id": "d049eea0-0618-443b-893c-3690a5fc7c28",
   "metadata": {},
   "outputs": [],
   "source": []
  },
  {
   "cell_type": "code",
   "execution_count": null,
   "id": "f20fc03e-0b04-4f9f-b0cd-704da4354bd2",
   "metadata": {},
   "outputs": [],
   "source": []
  }
 ],
 "metadata": {
  "kernelspec": {
   "display_name": "Python 3 (ipykernel)",
   "language": "python",
   "name": "python3"
  },
  "language_info": {
   "codemirror_mode": {
    "name": "ipython",
    "version": 3
   },
   "file_extension": ".py",
   "mimetype": "text/x-python",
   "name": "python",
   "nbconvert_exporter": "python",
   "pygments_lexer": "ipython3",
   "version": "3.13.5"
  }
 },
 "nbformat": 4,
 "nbformat_minor": 5
}
