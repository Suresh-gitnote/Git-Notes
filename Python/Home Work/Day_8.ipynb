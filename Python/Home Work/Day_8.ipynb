{
 "cells": [
  {
   "cell_type": "code",
   "execution_count": 15,
   "id": "2b3bfdda-536c-4ca1-b322-e8f3b63aa040",
   "metadata": {},
   "outputs": [
    {
     "name": "stdout",
     "output_type": "stream",
     "text": [
      "TCS\n"
     ]
    }
   ],
   "source": [
    "Skill = \"Python\"\n",
    "Exp = 1\n",
    "Native = \"Chennai\"\n",
    "\n",
    "if Skill == \"Python\" and Exp == 1 and Native == \"Chennai\":\n",
    "    print(\"TCS\")\n",
    "elif Skill == \"Python\" and Exp == 2 and Native == \"Chennai\":\n",
    "    print(\"Wipro\")\n",
    "else:\n",
    "    print(\"No Match\")"
   ]
  },
  {
   "cell_type": "code",
   "execution_count": 12,
   "id": "2ad9c32a-e28e-4927-b42f-6c5216ad6bdd",
   "metadata": {},
   "outputs": [
    {
     "name": "stdout",
     "output_type": "stream",
     "text": [
      "HCL\n"
     ]
    }
   ],
   "source": [
    "Skill = \"Java\"\n",
    "Exp = 2\n",
    "Native = \"Chennai\"\n",
    "\n",
    "if Skill == \"Java\" and Exp == 1 and Native == \"CBE\":\n",
    "    print(\"Cognizant\")\n",
    "elif Skill == \"Java\" and Exp == 2 and Native == \"CBE\":\n",
    "    print(\"Accenture\")\n",
    "elif Skill == \"Java\" and Exp == 1 and Native == \"Chennai\":\n",
    "    print(\"TRIOS\")\n",
    "elif Skill == \"Java\" and Exp == 2 and Native == \"Chennai\":\n",
    "    print(\"HCL\")\n",
    "else:\n",
    "    print(\"No Match\")"
   ]
  },
  {
   "cell_type": "code",
   "execution_count": null,
   "id": "00bc410e-1185-4f05-9a7c-d403407e3254",
   "metadata": {},
   "outputs": [],
   "source": []
  }
 ],
 "metadata": {
  "kernelspec": {
   "display_name": "Python [conda env:base] *",
   "language": "python",
   "name": "conda-base-py"
  },
  "language_info": {
   "codemirror_mode": {
    "name": "ipython",
    "version": 3
   },
   "file_extension": ".py",
   "mimetype": "text/x-python",
   "name": "python",
   "nbconvert_exporter": "python",
   "pygments_lexer": "ipython3",
   "version": "3.13.5"
  }
 },
 "nbformat": 4,
 "nbformat_minor": 5
}
