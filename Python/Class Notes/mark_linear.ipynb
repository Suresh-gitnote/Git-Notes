{
 "cells": [
  {
   "cell_type": "code",
   "execution_count": null,
   "id": "abf57e28-5260-4746-bff3-ce0604489747",
   "metadata": {},
   "outputs": [],
   "source": [
    "import numpy as np\n",
    "import pandas as pd\n"
   ]
  },
  {
   "cell_type": "code",
   "execution_count": null,
   "id": "d2ef473a-7e55-4bd8-9aac-72ac2263dca5",
   "metadata": {},
   "outputs": [],
   "source": [
    "# Load the CSV dataset\n",
    "data = pd.read_csv(r\"C:/Users/Admin/Documents/python/project_mark/data.csv\")\n",
    "data"
   ]
  },
  {
   "cell_type": "code",
   "execution_count": null,
   "id": "560891f3-e4c0-4f96-944e-45f54a392a89",
   "metadata": {},
   "outputs": [],
   "source": [
    "data.head()"
   ]
  },
  {
   "cell_type": "code",
   "execution_count": null,
   "id": "d730dcb9-7128-4c40-8c8e-fb0f68069851",
   "metadata": {},
   "outputs": [],
   "source": [
    "data.tail()"
   ]
  },
  {
   "cell_type": "code",
   "execution_count": null,
   "id": "f85533be-27ca-43d7-963a-d4658e116ae9",
   "metadata": {},
   "outputs": [],
   "source": [
    "data.info()"
   ]
  },
  {
   "cell_type": "code",
   "execution_count": null,
   "id": "02320858-95ea-4010-abc6-c5993104924a",
   "metadata": {},
   "outputs": [],
   "source": [
    "data.describe()"
   ]
  },
  {
   "cell_type": "code",
   "execution_count": null,
   "id": "2ad8f3d9-5aca-4675-ac3b-e1fd2761987f",
   "metadata": {},
   "outputs": [],
   "source": [
    "missingvalue = data.isnull()\n",
    "missingvalue"
   ]
  },
  {
   "cell_type": "code",
   "execution_count": null,
   "id": "45ab8989-dfc6-4b70-83e1-72c4e950ff04",
   "metadata": {},
   "outputs": [],
   "source": [
    "missingvalue = data.isnull().sum()\n",
    "missingvalue"
   ]
  },
  {
   "cell_type": "code",
   "execution_count": null,
   "id": "d799a1d2-753b-4ea2-9d72-f2e7494ff378",
   "metadata": {},
   "outputs": [],
   "source": [
    "x11=data[\"TAMIL\"].mean()\n",
    "x11"
   ]
  },
  {
   "cell_type": "code",
   "execution_count": null,
   "id": "13fa092e-60bb-4866-8e93-8c9628377d73",
   "metadata": {},
   "outputs": [],
   "source": [
    "x1=data[\"ENGLISH\"].mean()\n",
    "x1"
   ]
  },
  {
   "cell_type": "code",
   "execution_count": null,
   "id": "f65813bb-0853-4fd5-9799-46703ab419b4",
   "metadata": {},
   "outputs": [],
   "source": [
    "x2=data[\"MATHS\"].mean()\n",
    "x2"
   ]
  },
  {
   "cell_type": "code",
   "execution_count": null,
   "id": "e8782734-c45c-4360-a9a0-c71fb7c55188",
   "metadata": {},
   "outputs": [],
   "source": [
    "x3=data[\"SOCIAL\"].mean()\n",
    "x3"
   ]
  },
  {
   "cell_type": "code",
   "execution_count": null,
   "id": "525dce5c-7844-47b7-831c-72ef1fff8137",
   "metadata": {},
   "outputs": [],
   "source": [
    "x4=data[\"TOTAL\"].mean()\n",
    "x4"
   ]
  },
  {
   "cell_type": "code",
   "execution_count": null,
   "id": "a19bfd09-0aa2-47b5-8f81-845d4029798e",
   "metadata": {},
   "outputs": [],
   "source": [
    "from sklearn.preprocessing import LabelEncoder\n",
    "label_encoder = LabelEncoder()"
   ]
  },
  {
   "cell_type": "code",
   "execution_count": null,
   "id": "6b80d805-f5cd-4a52-b861-7c0481ffe5a0",
   "metadata": {},
   "outputs": [],
   "source": [
    "data[\"GRADE\"] = label_encoder.fit_transform(data[\"GRADE\"])\n",
    "data[\"GRADE\"]"
   ]
  },
  {
   "cell_type": "code",
   "execution_count": null,
   "id": "ec041003-2a3b-4d6f-bf3a-1a89ca938ac1",
   "metadata": {},
   "outputs": [],
   "source": [
    "x5=data[\"GRADE\"].mode()\n",
    "x5"
   ]
  },
  {
   "cell_type": "code",
   "execution_count": null,
   "id": "bd7a5fb1-d15c-4d00-9333-ae698a9a3aa7",
   "metadata": {},
   "outputs": [],
   "source": [
    "data[\"ENGLISH\"].fillna(x1, inplace = True)\n",
    "data[\"MATHS\"].fillna(x2, inplace = True)\n",
    "data[\"SOCIAL\"].fillna(x3, inplace = True)\n",
    "data[\"TOTAL\"].fillna(x4, inplace = True)\n",
    "data[\"GRADE\"].fillna(x5, inplace = True)\n",
    "data[\"TAMIL\"].fillna(x11, inplace = True)"
   ]
  },
  {
   "cell_type": "code",
   "execution_count": null,
   "id": "5050fd38-9fa7-4970-9417-d240c7241903",
   "metadata": {},
   "outputs": [],
   "source": [
    "missingvalue = data.isnull().sum()\n",
    "missingvalue"
   ]
  },
  {
   "cell_type": "code",
   "execution_count": null,
   "id": "61d6bc37-4d1f-43bd-b0d6-3e809d2a338b",
   "metadata": {},
   "outputs": [],
   "source": [
    "data"
   ]
  },
  {
   "cell_type": "code",
   "execution_count": null,
   "id": "f543b55e-bd68-4c15-be96-2953976c0fb9",
   "metadata": {},
   "outputs": [],
   "source": [
    "import seaborn as sns\n",
    "import matplotlib.pyplot as plt\n",
    "\n",
    "data1=data.drop([\"NAME\"],axis=1)\n",
    "correlation_matrix = data1.corr()\n",
    "\n",
    "# Plot heatmap\n",
    "plt.figure(figsize=(10, 8))\n",
    "sns.heatmap(correlation_matrix, annot=True, cmap='coolwarm', linewidths=0.5)\n",
    "plt.title('Correlation Heatmap')\n",
    "plt.show()"
   ]
  },
  {
   "cell_type": "code",
   "execution_count": null,
   "id": "a6653547-807c-41df-b17b-fb847a8ac8b9",
   "metadata": {},
   "outputs": [],
   "source": [
    "\n",
    "X=data.drop(['NAME',\"TOTAL\",\"STU ID\",\"GRADE\"],axis=1)\n",
    "y=data[\"TOTAL\"]"
   ]
  },
  {
   "cell_type": "code",
   "execution_count": null,
   "id": "2b70b07c-ea01-4232-b63e-0460b423602f",
   "metadata": {},
   "outputs": [],
   "source": [
    "X"
   ]
  },
  {
   "cell_type": "code",
   "execution_count": null,
   "id": "492f6934-9ca7-4f58-a46e-e1280d2b362e",
   "metadata": {},
   "outputs": [],
   "source": [
    "y"
   ]
  },
  {
   "cell_type": "code",
   "execution_count": null,
   "id": "26cc48e4-d7ff-4de1-ae79-ff7f1c025055",
   "metadata": {},
   "outputs": [],
   "source": [
    "from sklearn.model_selection import train_test_split\n",
    "X_train, X_test, y_train, y_test = train_test_split(X, y, test_size=0.2, random_state=42)\n"
   ]
  },
  {
   "cell_type": "code",
   "execution_count": null,
   "id": "a1daa3b4-bbb0-4739-8d24-4ee36f950f17",
   "metadata": {},
   "outputs": [],
   "source": [
    "X_train.head()"
   ]
  },
  {
   "cell_type": "code",
   "execution_count": null,
   "id": "42ff360d-43b7-4cb6-93c0-62909ddf7908",
   "metadata": {},
   "outputs": [],
   "source": [
    "y_train.head()"
   ]
  },
  {
   "cell_type": "code",
   "execution_count": null,
   "id": "a436ea36-6556-4401-973a-27819384d266",
   "metadata": {},
   "outputs": [],
   "source": [
    "X_test"
   ]
  },
  {
   "cell_type": "code",
   "execution_count": null,
   "id": "3fadd1f4-7763-48f7-9fd6-9a2a201f6829",
   "metadata": {},
   "outputs": [],
   "source": [
    "y_test"
   ]
  },
  {
   "cell_type": "code",
   "execution_count": null,
   "id": "218b50d2-2283-43f9-b2e1-0532c8454bc2",
   "metadata": {},
   "outputs": [],
   "source": [
    "from sklearn.linear_model import LinearRegression\n",
    "\n",
    "model = LinearRegression()\n",
    "model.fit(X_train, y_train)\n"
   ]
  },
  {
   "cell_type": "code",
   "execution_count": null,
   "id": "29587bfc-496b-41b2-a8f7-2592caa882d9",
   "metadata": {},
   "outputs": [],
   "source": [
    "y_pred = model.predict(X_test)\n",
    "y_pred"
   ]
  },
  {
   "cell_type": "code",
   "execution_count": null,
   "id": "3213a691-82ee-4178-86ab-e899ff0ae717",
   "metadata": {},
   "outputs": [],
   "source": [
    "y_test"
   ]
  },
  {
   "cell_type": "code",
   "execution_count": null,
   "id": "21fce1dc-91b7-41d5-9960-2ec40199c0d1",
   "metadata": {},
   "outputs": [],
   "source": [
    "import joblib\n",
    "\n",
    "joblib.dump(model, 'evebatch.pkl')\n"
   ]
  },
  {
   "cell_type": "code",
   "execution_count": 1,
   "id": "105c9b95-ed82-46d0-9755-c755af0c9e56",
   "metadata": {},
   "outputs": [
    {
     "name": "stdout",
     "output_type": "stream",
     "text": [
      "[392.24515316]\n"
     ]
    },
    {
     "name": "stderr",
     "output_type": "stream",
     "text": [
      "C:\\Users\\Admin\\anaconda3\\Lib\\site-packages\\sklearn\\base.py:493: UserWarning: X does not have valid feature names, but LinearRegression was fitted with feature names\n",
      "  warnings.warn(\n"
     ]
    }
   ],
   "source": [
    "import joblib\n",
    "\n",
    "# Load the model from the file\n",
    "loaded_model = joblib.load('evebatch.pkl')\n",
    "\n",
    "# Make predictions with the loaded model\n",
    "y_pred = loaded_model.predict([[82,96,89,56,50]])\n",
    "print(y_pred)\n"
   ]
  },
  {
   "cell_type": "code",
   "execution_count": 2,
   "id": "b9e785dc-ffee-4c33-9610-178075b2415f",
   "metadata": {},
   "outputs": [
    {
     "data": {
      "text/plain": [
       "373"
      ]
     },
     "execution_count": 2,
     "metadata": {},
     "output_type": "execute_result"
    }
   ],
   "source": [
    "sum([82,96,89,56,50])"
   ]
  },
  {
   "cell_type": "code",
   "execution_count": null,
   "id": "0e7c778f-baf6-40fc-93ff-0f8c6d57601f",
   "metadata": {},
   "outputs": [],
   "source": []
  }
 ],
 "metadata": {
  "kernelspec": {
   "display_name": "Python 3 (ipykernel)",
   "language": "python",
   "name": "python3"
  },
  "language_info": {
   "codemirror_mode": {
    "name": "ipython",
    "version": 3
   },
   "file_extension": ".py",
   "mimetype": "text/x-python",
   "name": "python",
   "nbconvert_exporter": "python",
   "pygments_lexer": "ipython3",
   "version": "3.13.5"
  }
 },
 "nbformat": 4,
 "nbformat_minor": 5
}
