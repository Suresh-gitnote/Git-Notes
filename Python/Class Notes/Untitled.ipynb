{
 "cells": [
  {
   "cell_type": "code",
   "execution_count": 1,
   "id": "04e03425-1805-4a1a-8df7-a3790ed4f447",
   "metadata": {},
   "outputs": [],
   "source": [
    "# numpy - numerical python its 3 times better than list for best storage\n",
    "# import numpy - inside this it is array\n",
    "# nested list is called dimensions\n",
    "# "
   ]
  },
  {
   "cell_type": "code",
   "execution_count": null,
   "id": "8e38d808-607c-44e5-a059-fac5a150bf2a",
   "metadata": {},
   "outputs": [],
   "source": []
  }
 ],
 "metadata": {
  "kernelspec": {
   "display_name": "Python 3 (ipykernel)",
   "language": "python",
   "name": "python3"
  },
  "language_info": {
   "codemirror_mode": {
    "name": "ipython",
    "version": 3
   },
   "file_extension": ".py",
   "mimetype": "text/x-python",
   "name": "python",
   "nbconvert_exporter": "python",
   "pygments_lexer": "ipython3",
   "version": "3.13.5"
  }
 },
 "nbformat": 4,
 "nbformat_minor": 5
}
