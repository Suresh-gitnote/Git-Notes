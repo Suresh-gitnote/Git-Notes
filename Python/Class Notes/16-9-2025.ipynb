{
 "cells": [
  {
   "cell_type": "code",
   "execution_count": 4,
   "id": "058fcbea-0b87-4f4c-aa4b-a40fe1759e78",
   "metadata": {},
   "outputs": [
    {
     "ename": "NameError",
     "evalue": "name 'original' is not defined",
     "output_type": "error",
     "traceback": [
      "\u001b[1;31m---------------------------------------------------------------------------\u001b[0m",
      "\u001b[1;31mNameError\u001b[0m                                 Traceback (most recent call last)",
      "Cell \u001b[1;32mIn[4], line 3\u001b[0m\n\u001b[0;32m      1\u001b[0m K \u001b[38;5;241m=\u001b[39m \u001b[38;5;241m123\u001b[39m\n\u001b[0;32m      2\u001b[0m rev \u001b[38;5;241m=\u001b[39m \u001b[38;5;241m0\u001b[39m\n\u001b[1;32m----> 3\u001b[0m \u001b[38;5;28;01mwhile\u001b[39;00m original \u001b[38;5;241m>\u001b[39m \u001b[38;5;241m0\u001b[39m:\n\u001b[0;32m      4\u001b[0m     digit \u001b[38;5;241m=\u001b[39m original\u001b[38;5;241m%\u001b[39m\u001b[38;5;241m10\u001b[39m\n\u001b[0;32m      5\u001b[0m     rev \u001b[38;5;241m=\u001b[39m rev\u001b[38;5;241m*\u001b[39m\u001b[38;5;241m10\u001b[39m \u001b[38;5;241m+\u001b[39m digit\n",
      "\u001b[1;31mNameError\u001b[0m: name 'original' is not defined"
     ]
    }
   ],
   "source": [
    "K = 123\n",
    "rev = 0\n",
    "while original > 0:\n",
    "    digit = original%10\n",
    "    rev = rev*10 + digit\n",
    "    original //= 10\n",
    "if original == rev:\n",
    "    print(\"palindrom\")"
   ]
  },
  {
   "cell_type": "code",
   "execution_count": null,
   "id": "27799c34-8968-4376-9bfd-e3ce285e8034",
   "metadata": {},
   "outputs": [],
   "source": [
    "map and filter "
   ]
  },
  {
   "cell_type": "code",
   "execution_count": 9,
   "id": "4d0dece8-c719-4ce3-addc-6048ec047dde",
   "metadata": {},
   "outputs": [
    {
     "name": "stdout",
     "output_type": "stream",
     "text": [
      "Even numbers: [2, 4, 6, 8, 10]\n"
     ]
    }
   ],
   "source": [
    "#Filter\n",
    "\n",
    "k = [1, 2, 3, 4, 5, 6, 7, 8, 9, 10]\n",
    "\n",
    "def is_even(num):\n",
    "    return num % 2 == 0\n",
    "\n",
    "even_numbers_iterator = filter(is_even, k)\n",
    "even_numbers_list = list(even_numbers_iterator)\n",
    "print(f\"Even numbers: {even_numbers_list}\")"
   ]
  },
  {
   "cell_type": "code",
   "execution_count": 10,
   "id": "9228581e-cf4f-49af-a424-ee039f619ec4",
   "metadata": {},
   "outputs": [
    {
     "name": "stdout",
     "output_type": "stream",
     "text": [
      "Names longer than 4 characters: ['Alice', 'Charlie', 'David']\n"
     ]
    }
   ],
   "source": [
    "names = [\"Alice\", \"Bob\", \"Charlie\", \"David\", \"Eve\"]\n",
    "long_names_iterator = filter(lambda name: len(name) > 4, names)\n",
    "long_names_list = list(long_names_iterator)\n",
    "print(f\"Names longer than 4 characters: {long_names_list}\")"
   ]
  },
  {
   "cell_type": "code",
   "execution_count": null,
   "id": "7e3c9289-34ec-429d-941f-7e3cbd05f45a",
   "metadata": {},
   "outputs": [],
   "source": [
    "#Encapsulation\n",
    "#Public Access Modifier - Access anywhere"
   ]
  },
  {
   "cell_type": "code",
   "execution_count": 18,
   "id": "c888a867-dc29-4c39-a4fa-9f7481a1f14f",
   "metadata": {},
   "outputs": [
    {
     "name": "stdout",
     "output_type": "stream",
     "text": [
      "abc\n",
      "<bound method student.change of <__main__.student object at 0x0000015A9FDF56A0>>\n"
     ]
    }
   ],
   "source": [
    "class student:\n",
    "    def __init__(self,name):\n",
    "        self.name = name\n",
    "    def change(self):\n",
    "        self.name = \"name\"\n",
    "        print(self.name)\n",
    "stu = student(\"abc\")\n",
    "print(stu.name)\n",
    "stu.name=\"Welcome\"\n",
    "print(stu.change)\n"
   ]
  },
  {
   "cell_type": "code",
   "execution_count": null,
   "id": "34d1f6c6-7763-4be3-8d72-025c15db46c7",
   "metadata": {},
   "outputs": [],
   "source": [
    "class BankAccount:\n",
    "    def __init__(self,balance):\n",
    "        self.__balance = balance # Private attirbute\n",
    "\n",
    "    def show_balance(self):\n",
    "        print(f\"Balance: {self.__balance}\")\n",
    "\n",
    "    def deposit(self,amount):\n",
    "        if amount>0:\n",
    "            self.__balance += amount\n",
    "            "
   ]
  },
  {
   "cell_type": "code",
   "execution_count": 28,
   "id": "608468e0-713b-4841-b62d-8e0069f7302f",
   "metadata": {},
   "outputs": [
    {
     "ename": "SyntaxError",
     "evalue": "expected '(' (2431780470.py, line 6)",
     "output_type": "error",
     "traceback": [
      "\u001b[1;36m  Cell \u001b[1;32mIn[28], line 6\u001b[1;36m\u001b[0m\n\u001b[1;33m    def __self.batch(self):\u001b[0m\n\u001b[1;37m              ^\u001b[0m\n\u001b[1;31mSyntaxError\u001b[0m\u001b[1;31m:\u001b[0m expected '('\n"
     ]
    }
   ],
   "source": [
    "class Defence:\n",
    "    def __init__(self,team):\n",
    "        self.team = team\n",
    "    def team_name(self):\n",
    "        self.team_name = \"Hawks\"\n",
    "    def __self.batch(self):\n",
    "        __self.batch = \"20\"\n",
    "\n",
    "D = Defence(\"Marshall\")\n",
    "self.team = \"Air\"\n",
    "print(self.team)\n",
    "\n"
   ]
  },
  {
   "cell_type": "code",
   "execution_count": 34,
   "id": "b7f1ccfc-36f3-44d3-9bcf-1105ad459acf",
   "metadata": {},
   "outputs": [
    {
     "ename": "AttributeError",
     "evalue": "'university' object has no attribute 'department'",
     "output_type": "error",
     "traceback": [
      "\u001b[1;31m---------------------------------------------------------------------------\u001b[0m",
      "\u001b[1;31mAttributeError\u001b[0m                            Traceback (most recent call last)",
      "Cell \u001b[1;32mIn[34], line 15\u001b[0m\n\u001b[0;32m     12\u001b[0m         \u001b[38;5;28mprint\u001b[39m(\u001b[38;5;124m\"\u001b[39m\u001b[38;5;124mECE\u001b[39m\u001b[38;5;124m\"\u001b[39m)\n\u001b[0;32m     14\u001b[0m uni\u001b[38;5;241m=\u001b[39muniversity()\n\u001b[1;32m---> 15\u001b[0m uni\u001b[38;5;241m.\u001b[39mdepartments()\n",
      "Cell \u001b[1;32mIn[34], line 9\u001b[0m, in \u001b[0;36muniversity.departments\u001b[1;34m(self)\u001b[0m\n\u001b[0;32m      8\u001b[0m \u001b[38;5;28;01mdef\u001b[39;00m\u001b[38;5;250m \u001b[39m\u001b[38;5;21mdepartments\u001b[39m(\u001b[38;5;28mself\u001b[39m):\n\u001b[1;32m----> 9\u001b[0m     \u001b[38;5;28mself\u001b[39m\u001b[38;5;241m.\u001b[39mdepartment()\n",
      "\u001b[1;31mAttributeError\u001b[0m: 'university' object has no attribute 'department'"
     ]
    }
   ],
   "source": [
    "class university:\n",
    "    def college(self):\n",
    "        print(\"Anna University\")\n",
    "\n",
    "    def __department(self):\n",
    "        print(\"EEE\")\n",
    "\n",
    "    def departments(self):\n",
    "        self.department()\n",
    "\n",
    "    def _check(self):\n",
    "        print(\"ECE\")\n",
    "\n",
    "uni=university()\n",
    "uni.departments()"
   ]
  },
  {
   "cell_type": "code",
   "execution_count": 36,
   "id": "19ab1c67-92be-4b96-8f04-b0baf3d9c928",
   "metadata": {},
   "outputs": [
    {
     "ename": "SyntaxError",
     "evalue": "invalid syntax (4173930190.py, line 1)",
     "output_type": "error",
     "traceback": [
      "\u001b[1;36m  Cell \u001b[1;32mIn[36], line 1\u001b[1;36m\u001b[0m\n\u001b[1;33m    parent class\u001b[0m\n\u001b[1;37m           ^\u001b[0m\n\u001b[1;31mSyntaxError\u001b[0m\u001b[1;31m:\u001b[0m invalid syntax\n"
     ]
    }
   ],
   "source": [
    "\n",
    "parent class\n",
    "child/sub class needs multilevel inherentace  using the encapsulation one public, protect, and private\n",
    "\n",
    "polimorfisome\n"
   ]
  },
  {
   "cell_type": "code",
   "execution_count": null,
   "id": "f761487e-f98e-4a1c-b67b-ca9367f8faf5",
   "metadata": {},
   "outputs": [],
   "source": []
  },
  {
   "cell_type": "code",
   "execution_count": null,
   "id": "4724f84a-9882-4753-8546-d278f960930c",
   "metadata": {},
   "outputs": [],
   "source": []
  }
 ],
 "metadata": {
  "kernelspec": {
   "display_name": "Python 3 (ipykernel)",
   "language": "python",
   "name": "python3"
  },
  "language_info": {
   "codemirror_mode": {
    "name": "ipython",
    "version": 3
   },
   "file_extension": ".py",
   "mimetype": "text/x-python",
   "name": "python",
   "nbconvert_exporter": "python",
   "pygments_lexer": "ipython3",
   "version": "3.13.5"
  }
 },
 "nbformat": 4,
 "nbformat_minor": 5
}
