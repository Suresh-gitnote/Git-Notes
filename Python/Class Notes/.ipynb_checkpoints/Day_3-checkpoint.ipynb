{
 "cells": [
  {
   "cell_type": "code",
   "execution_count": 4,
   "id": "68b4ac89-6c2e-4090-954d-3dfeadabc650",
   "metadata": {},
   "outputs": [
    {
     "name": "stdout",
     "output_type": "stream",
     "text": [
      "Hello World\n"
     ]
    }
   ],
   "source": [
    "print(\"Hello World\") #Python is case sensitive language"
   ]
  },
  {
   "cell_type": "code",
   "execution_count": 5,
   "id": "2df8f522-22fd-45b2-9feb-7bcef657fe55",
   "metadata": {},
   "outputs": [
    {
     "name": "stdout",
     "output_type": "stream",
     "text": [
      "10\n"
     ]
    }
   ],
   "source": [
    "_myvariable = 10\n",
    "print(_myvariable)"
   ]
  },
  {
   "cell_type": "code",
   "execution_count": 11,
   "id": "a6c9d625-abae-4ea0-b378-0a6b882aefcf",
   "metadata": {},
   "outputs": [
    {
     "name": "stdout",
     "output_type": "stream",
     "text": [
      "Alice 25 Raj 450 99.99\n",
      "Alice\n",
      "25\n",
      "Raj\n",
      "450\n",
      "99.99\n"
     ]
    }
   ],
   "source": [
    "name = \"Alice\"\n",
    "age1 = 25\n",
    "_student = \"Raj\"\n",
    "total_marks = 450\n",
    "Price = 99.99\n",
    "\n",
    "print(name,\n",
    "      age1,\n",
    "      _student,\n",
    "     total_marks,\n",
    "     Price)\n",
    "\n",
    "print(name)\n",
    "print(age1)\n",
    "print(_student)\n",
    "print(total_marks)\n",
    "print(Price)"
   ]
  },
  {
   "cell_type": "code",
   "execution_count": 20,
   "id": "fc298519-b112-4802-9710-d4e1a646d939",
   "metadata": {},
   "outputs": [
    {
     "name": "stdout",
     "output_type": "stream",
     "text": [
      "Suresh\n",
      "9884854593\n",
      "Python\n",
      "4\n",
      "Raja\n",
      "Velachery\n"
     ]
    }
   ],
   "source": [
    "#Legal Variables\n",
    "name='Suresh' #1 Starting with lower case \n",
    "contact1=9884854593 #2 Number at the end \n",
    "_Course_name=\"Python\" #3 Starting with underscore'_' and having in any deisred location\n",
    "No_of_Days_sinceclass_started=4 #4 Mixed case upper case, lower case, underscore\n",
    "TrAiner_nAmE='Raja' #5 Mixed case in a single or multiple word\n",
    "LOCATION=\"Velachery\" #6 All upper case\n",
    "\n",
    "print(name)\n",
    "print(contact1)\n",
    "print(_Course_name)\n",
    "print(No_of_Days_sinceclass_started)\n",
    "print(TrAiner_nAmE)\n",
    "print(LOCATION)"
   ]
  },
  {
   "cell_type": "code",
   "execution_count": 24,
   "id": "2c84e80c-1961-4faa-95ba-dda9f205365f",
   "metadata": {},
   "outputs": [
    {
     "ename": "SyntaxError",
     "evalue": "invalid decimal literal (777104886.py, line 2)",
     "output_type": "error",
     "traceback": [
      "\u001b[1;36m  Cell \u001b[1;32mIn[24], line 2\u001b[1;36m\u001b[0m\n\u001b[1;33m    1name='Suresh'\u001b[0m\n\u001b[1;37m    ^\u001b[0m\n\u001b[1;31mSyntaxError\u001b[0m\u001b[1;31m:\u001b[0m invalid decimal literal\n"
     ]
    }
   ],
   "source": [
    "#Illegal Variables\n",
    "1name='Suresh' #1 Starts with number\n",
    "full-name='Suresh R' #2 Hyphen is not allowed\n",
    "class=\"Python\" #3 'class' is keyword \n",
    "Trainer Name=\"Raja\" #4 Space is not allowed\n",
    "@contact='samle@email.com' #5 Special characters not allowed\n",
    "no. of days since start date = 8 #6 Mixed case of anything above or hainvg [DOT] is not allowed"
   ]
  },
  {
   "cell_type": "code",
   "execution_count": 33,
   "id": "67a53b0d-1aaa-49f2-aa4b-b482fc5797bb",
   "metadata": {},
   "outputs": [
    {
     "ename": "SyntaxError",
     "evalue": "invalid decimal literal (832219382.py, line 1)",
     "output_type": "error",
     "traceback": [
      "\u001b[1;36m  Cell \u001b[1;32mIn[33], line 1\u001b[1;36m\u001b[0m\n\u001b[1;33m    1name='Suresh'\u001b[0m\n\u001b[1;37m    ^\u001b[0m\n\u001b[1;31mSyntaxError\u001b[0m\u001b[1;31m:\u001b[0m invalid decimal literal\n"
     ]
    }
   ],
   "source": [
    "1name='Suresh' \n",
    "print(1name)"
   ]
  },
  {
   "cell_type": "code",
   "execution_count": 34,
   "id": "e6a91cb4-55a3-4a7f-926d-8820b67fa9c8",
   "metadata": {},
   "outputs": [
    {
     "ename": "SyntaxError",
     "evalue": "cannot assign to expression here. Maybe you meant '==' instead of '='? (2379727981.py, line 1)",
     "output_type": "error",
     "traceback": [
      "\u001b[1;36m  Cell \u001b[1;32mIn[34], line 1\u001b[1;36m\u001b[0m\n\u001b[1;33m    full-name='Suresh R'\u001b[0m\n\u001b[1;37m    ^\u001b[0m\n\u001b[1;31mSyntaxError\u001b[0m\u001b[1;31m:\u001b[0m cannot assign to expression here. Maybe you meant '==' instead of '='?\n"
     ]
    }
   ],
   "source": [
    "full-name='Suresh R'\n",
    "print(full-name)"
   ]
  },
  {
   "cell_type": "code",
   "execution_count": 37,
   "id": "1687f2d7-2918-4983-9af0-e2669bfc7e0a",
   "metadata": {},
   "outputs": [
    {
     "ename": "SyntaxError",
     "evalue": "invalid syntax (4189827187.py, line 1)",
     "output_type": "error",
     "traceback": [
      "\u001b[1;36m  Cell \u001b[1;32mIn[37], line 1\u001b[1;36m\u001b[0m\n\u001b[1;33m    class=\"Python\"\u001b[0m\n\u001b[1;37m         ^\u001b[0m\n\u001b[1;31mSyntaxError\u001b[0m\u001b[1;31m:\u001b[0m invalid syntax\n"
     ]
    }
   ],
   "source": [
    "class=\"Python\" \n",
    "print(class)"
   ]
  },
  {
   "cell_type": "code",
   "execution_count": 38,
   "id": "7d233eba-1eeb-429b-bbd3-d18cb9b76e7b",
   "metadata": {},
   "outputs": [
    {
     "ename": "SyntaxError",
     "evalue": "invalid syntax (1747405731.py, line 1)",
     "output_type": "error",
     "traceback": [
      "\u001b[1;36m  Cell \u001b[1;32mIn[38], line 1\u001b[1;36m\u001b[0m\n\u001b[1;33m    Trainer Name=\"Raja\"\u001b[0m\n\u001b[1;37m            ^\u001b[0m\n\u001b[1;31mSyntaxError\u001b[0m\u001b[1;31m:\u001b[0m invalid syntax\n"
     ]
    }
   ],
   "source": [
    "Trainer Name=\"Raja\" \n",
    "print(Trainer Name)"
   ]
  },
  {
   "cell_type": "code",
   "execution_count": 39,
   "id": "072b0888-0609-4646-9fdf-886b92aefb78",
   "metadata": {},
   "outputs": [
    {
     "ename": "SyntaxError",
     "evalue": "invalid syntax. Maybe you meant '==' or ':=' instead of '='? (2022498678.py, line 1)",
     "output_type": "error",
     "traceback": [
      "\u001b[1;36m  Cell \u001b[1;32mIn[39], line 1\u001b[1;36m\u001b[0m\n\u001b[1;33m    @contact='samle@email.com'\u001b[0m\n\u001b[1;37m     ^\u001b[0m\n\u001b[1;31mSyntaxError\u001b[0m\u001b[1;31m:\u001b[0m invalid syntax. Maybe you meant '==' or ':=' instead of '='?\n"
     ]
    }
   ],
   "source": [
    "@contact='samle@email.com' \n",
    "print(@contact)"
   ]
  },
  {
   "cell_type": "code",
   "execution_count": 40,
   "id": "2c96638d-5924-4b48-9c02-41a38154b047",
   "metadata": {},
   "outputs": [
    {
     "ename": "SyntaxError",
     "evalue": "invalid syntax (2628755338.py, line 1)",
     "output_type": "error",
     "traceback": [
      "\u001b[1;36m  Cell \u001b[1;32mIn[40], line 1\u001b[1;36m\u001b[0m\n\u001b[1;33m    no. of days since start date = 8\u001b[0m\n\u001b[1;37m           ^\u001b[0m\n\u001b[1;31mSyntaxError\u001b[0m\u001b[1;31m:\u001b[0m invalid syntax\n"
     ]
    }
   ],
   "source": [
    "no. of days since start date = 8\n",
    "print(no. of days since start date)"
   ]
  },
  {
   "cell_type": "code",
   "execution_count": null,
   "id": "d3aee7ac-f3ae-4325-b1e9-7d617fa0c2a4",
   "metadata": {},
   "outputs": [],
   "source": []
  }
 ],
 "metadata": {
  "kernelspec": {
   "display_name": "Python [conda env:base] *",
   "language": "python",
   "name": "conda-base-py"
  },
  "language_info": {
   "codemirror_mode": {
    "name": "ipython",
    "version": 3
   },
   "file_extension": ".py",
   "mimetype": "text/x-python",
   "name": "python",
   "nbconvert_exporter": "python",
   "pygments_lexer": "ipython3",
   "version": "3.13.5"
  }
 },
 "nbformat": 4,
 "nbformat_minor": 5
}
